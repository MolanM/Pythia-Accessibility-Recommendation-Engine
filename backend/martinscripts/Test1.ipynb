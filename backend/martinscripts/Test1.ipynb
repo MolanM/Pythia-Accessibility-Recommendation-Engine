{
 "cells": [
  {
   "cell_type": "code",
   "execution_count": 5,
   "metadata": {},
   "outputs": [],
   "source": [
    "import itertools\n",
    "import math\n",
    "import trueskill as t\n",
    "import numpy as np\n",
    "\n",
    "\n",
    "class TrueSkill_classifier:\n",
    "    def __init__(self, starting_skill = 0, starting_var = (25/3), BETA = 25/6):\n",
    "        #starting skill is defenitly 0, starting var has to be determined\n",
    "        self.st_skill = starting_skill\n",
    "        self.st_var = starting_var\n",
    "        self.BETA = BETA\n",
    "        self.learners = {}\n",
    "        \n",
    "\n",
    "\n",
    "    def win_probability(self,team1, team2):\n",
    "        delta_mu = sum(r.mu for r in team1) - sum(r.mu for r in team2)\n",
    "        sum_sigma = sum(r.sigma ** 2 for r in itertools.chain(team1, team2))\n",
    "        size = len(team1) + len(team2)\n",
    "        denom = math.sqrt(size * (self.BETA * self.BETA) + sum_sigma)\n",
    "        ts = t.global_env()\n",
    "        return ts.cdf(delta_mu / denom)\n",
    "\n",
    "    \n",
    "    \n",
    "    def fit(self,X,y, bias = False):\n",
    "        #each instance of X is its own team\n",
    "        #each feature is its own player\n",
    "        \n",
    "        #initialise features\n",
    "        if self.learners == {}:\n",
    "            for i in range(X.shape[1]):\n",
    "                self.learners[i] = t.Rating(self.st_skill,self.st_var)\n",
    "        \n",
    "        if bias == True:\n",
    "            \n",
    "            self.learners['B'] = t.Rating(self.st_skill,self.st_var)\n",
    "            \n",
    "        #iterate over rows\n",
    "        for i in range(X.shape[0]):\n",
    "            \n",
    "            #print(X[i,:])\n",
    "            active_features = np.where(X[i,:] == 1)[0]\n",
    "            \n",
    "            \n",
    "                \n",
    "            #print(active_features)\n",
    "            \n",
    "            team_features = [self.learners[i] for i in active_features]\n",
    "            \n",
    "            if bias == True:\n",
    "                team_features.append(self.learners['B'])\n",
    "                \n",
    "            dummy_features = [t.Rating(0,1/10000) for i in active_features]\n",
    "            if y[i] == 1:\n",
    "                #lower rank is better!!!\n",
    "                (team_features,_) = t.rate([team_features,dummy_features],ranks=[0,1])\n",
    "            else:\n",
    "                (team_features,_) = t.rate([team_features,dummy_features],ranks=[1,0])\n",
    "                \n",
    "                            \n",
    "            #print(team_features[-1])\n",
    "            \n",
    "            for i in range(len(active_features)):\n",
    "                    #print(active_features[i])\n",
    "                self.learners[active_features[i]] = team_features[i]\n",
    "            \n",
    "            #update learners\n",
    "            if bias == True:\n",
    "                self.learners['B'] = team_features[-1]\n",
    "                #print(self.learners['B'])\n",
    "            \n",
    "        return None\n",
    "            \n",
    "    \n",
    "    \n",
    "    \n",
    "    def predict_proba(self,X):\n",
    "        #prediction is evaluation of instance against dummy team\n",
    "        \n",
    "        #predicted vector (probability that first wins)\n",
    "        y_pred = []\n",
    "        for i in range(X.shape[0]):\n",
    "            active_features = np.where(X[i,:] == 1)[0]\n",
    "\n",
    "            team_features = [self.learners[i] for i in active_features]\n",
    "            dummy_features = [t.Rating(0,1/10000) for i in active_features]\n",
    "            \n",
    "            y_pred.append(self.win_probability(team_features,dummy_features))\n",
    "        return y_pred\n",
    "    \n",
    "    def predict(self,X):\n",
    "        y_proba = self.predict_proba(X)\n",
    "        \n",
    "        return([1 if i > 0.5 else 0 for i in y_proba])\n",
    "        \n",
    "        "
   ]
  },
  {
   "cell_type": "code",
   "execution_count": 6,
   "metadata": {},
   "outputs": [],
   "source": [
    "learner = TrueSkill_classifier()"
   ]
  },
  {
   "cell_type": "code",
   "execution_count": 7,
   "metadata": {},
   "outputs": [],
   "source": [
    "learner.fit(np.array([[0,1,1,1,0]]),[1])"
   ]
  },
  {
   "cell_type": "code",
   "execution_count": 8,
   "metadata": {},
   "outputs": [
    {
     "data": {
      "text/plain": [
       "{0: trueskill.Rating(mu=0.000, sigma=8.333),\n",
       " 1: trueskill.Rating(mu=3.318, sigma=7.706),\n",
       " 2: trueskill.Rating(mu=3.318, sigma=7.706),\n",
       " 3: trueskill.Rating(mu=3.318, sigma=7.706),\n",
       " 4: trueskill.Rating(mu=0.000, sigma=8.333)}"
      ]
     },
     "execution_count": 8,
     "metadata": {},
     "output_type": "execute_result"
    }
   ],
   "source": [
    "learner.learners"
   ]
  },
  {
   "cell_type": "code",
   "execution_count": 9,
   "metadata": {},
   "outputs": [
    {
     "data": {
      "text/plain": [
       "[0.7232203947847158]"
      ]
     },
     "execution_count": 9,
     "metadata": {},
     "output_type": "execute_result"
    }
   ],
   "source": [
    "learner.predict_proba(np.array([[0,1,1,1,0]]))\n"
   ]
  },
  {
   "cell_type": "code",
   "execution_count": 39,
   "metadata": {},
   "outputs": [],
   "source": [
    "X = np.random.randint(2,size = (10,200))\n",
    "y = np.random.randint(2,size = (1,200))[0]"
   ]
  },
  {
   "cell_type": "code",
   "execution_count": 11,
   "metadata": {},
   "outputs": [],
   "source": [
    "people = []\n",
    "for i in range(100):\n",
    "    learner = TrueSkill_classifier()\n",
    "    learner.fit(X,y)\n",
    "    people.append(learner)"
   ]
  },
  {
   "cell_type": "code",
   "execution_count": 81,
   "metadata": {},
   "outputs": [
    {
     "data": {
      "text/plain": [
       "{0: trueskill.Rating(mu=1.136, sigma=8.247),\n",
       " 1: trueskill.Rating(mu=-0.125, sigma=8.248),\n",
       " 2: trueskill.Rating(mu=1.021, sigma=8.252),\n",
       " 3: trueskill.Rating(mu=0.794, sigma=8.174),\n",
       " 4: trueskill.Rating(mu=0.846, sigma=8.264),\n",
       " 5: trueskill.Rating(mu=2.389, sigma=8.214),\n",
       " 6: trueskill.Rating(mu=1.894, sigma=8.268),\n",
       " 7: trueskill.Rating(mu=0.429, sigma=8.225),\n",
       " 8: trueskill.Rating(mu=1.541, sigma=8.244),\n",
       " 9: trueskill.Rating(mu=0.090, sigma=8.244),\n",
       " 10: trueskill.Rating(mu=1.747, sigma=8.279),\n",
       " 11: trueskill.Rating(mu=1.684, sigma=8.230),\n",
       " 12: trueskill.Rating(mu=-0.526, sigma=8.263),\n",
       " 13: trueskill.Rating(mu=-0.759, sigma=8.262),\n",
       " 14: trueskill.Rating(mu=0.415, sigma=8.227),\n",
       " 15: trueskill.Rating(mu=0.925, sigma=8.263),\n",
       " 16: trueskill.Rating(mu=1.965, sigma=8.228),\n",
       " 17: trueskill.Rating(mu=0.415, sigma=8.226),\n",
       " 18: trueskill.Rating(mu=-0.014, sigma=8.247),\n",
       " 19: trueskill.Rating(mu=0.979, sigma=8.250),\n",
       " 20: trueskill.Rating(mu=1.159, sigma=8.208),\n",
       " 21: trueskill.Rating(mu=2.002, sigma=8.266),\n",
       " 22: trueskill.Rating(mu=0.931, sigma=8.302),\n",
       " 23: trueskill.Rating(mu=1.313, sigma=8.246),\n",
       " 24: trueskill.Rating(mu=1.659, sigma=8.232),\n",
       " 25: trueskill.Rating(mu=0.090, sigma=8.244),\n",
       " 26: trueskill.Rating(mu=-0.125, sigma=8.248),\n",
       " 27: trueskill.Rating(mu=0.609, sigma=8.226),\n",
       " 28: trueskill.Rating(mu=-0.544, sigma=8.261),\n",
       " 29: trueskill.Rating(mu=1.115, sigma=8.212),\n",
       " 30: trueskill.Rating(mu=-0.631, sigma=8.220),\n",
       " 31: trueskill.Rating(mu=0.020, sigma=8.284),\n",
       " 32: trueskill.Rating(mu=1.175, sigma=8.248),\n",
       " 33: trueskill.Rating(mu=-0.645, sigma=8.261),\n",
       " 34: trueskill.Rating(mu=0.821, sigma=8.260),\n",
       " 35: trueskill.Rating(mu=0.317, sigma=8.190),\n",
       " 36: trueskill.Rating(mu=1.643, sigma=8.231),\n",
       " 37: trueskill.Rating(mu=0.330, sigma=8.281),\n",
       " 38: trueskill.Rating(mu=1.144, sigma=8.248),\n",
       " 39: trueskill.Rating(mu=-0.800, sigma=8.263),\n",
       " 40: trueskill.Rating(mu=-1.379, sigma=8.244),\n",
       " 41: trueskill.Rating(mu=1.992, sigma=8.268),\n",
       " 42: trueskill.Rating(mu=2.002, sigma=8.267),\n",
       " 43: trueskill.Rating(mu=0.101, sigma=8.281),\n",
       " 44: trueskill.Rating(mu=1.267, sigma=8.252),\n",
       " 45: trueskill.Rating(mu=1.007, sigma=8.214),\n",
       " 46: trueskill.Rating(mu=1.130, sigma=8.249),\n",
       " 47: trueskill.Rating(mu=0.497, sigma=8.268),\n",
       " 48: trueskill.Rating(mu=1.359, sigma=8.248),\n",
       " 49: trueskill.Rating(mu=0.720, sigma=8.264),\n",
       " 50: trueskill.Rating(mu=2.241, sigma=8.214),\n",
       " 51: trueskill.Rating(mu=0.067, sigma=8.283),\n",
       " 52: trueskill.Rating(mu=-0.312, sigma=8.296),\n",
       " 53: trueskill.Rating(mu=2.523, sigma=8.253),\n",
       " 54: trueskill.Rating(mu=0.429, sigma=8.225),\n",
       " 55: trueskill.Rating(mu=0.668, sigma=8.263),\n",
       " 56: trueskill.Rating(mu=0.482, sigma=8.230),\n",
       " 57: trueskill.Rating(mu=1.761, sigma=8.227),\n",
       " 58: trueskill.Rating(mu=-0.507, sigma=8.262),\n",
       " 59: trueskill.Rating(mu=0.526, sigma=8.316),\n",
       " 60: trueskill.Rating(mu=0.320, sigma=8.229),\n",
       " 61: trueskill.Rating(mu=1.244, sigma=8.245),\n",
       " 62: trueskill.Rating(mu=0.699, sigma=8.176),\n",
       " 63: trueskill.Rating(mu=1.434, sigma=8.247),\n",
       " 64: trueskill.Rating(mu=1.647, sigma=8.281),\n",
       " 65: trueskill.Rating(mu=1.496, sigma=8.284),\n",
       " 66: trueskill.Rating(mu=1.156, sigma=8.248),\n",
       " 67: trueskill.Rating(mu=0.404, sigma=8.231),\n",
       " 68: trueskill.Rating(mu=-0.373, sigma=8.259),\n",
       " 69: trueskill.Rating(mu=0.948, sigma=8.209),\n",
       " 70: trueskill.Rating(mu=-0.536, sigma=8.257),\n",
       " 71: trueskill.Rating(mu=0.621, sigma=8.264),\n",
       " 72: trueskill.Rating(mu=1.549, sigma=8.195),\n",
       " 73: trueskill.Rating(mu=0.895, sigma=8.210),\n",
       " 74: trueskill.Rating(mu=0.095, sigma=8.243),\n",
       " 75: trueskill.Rating(mu=1.005, sigma=8.212),\n",
       " 76: trueskill.Rating(mu=-0.312, sigma=8.296),\n",
       " 77: trueskill.Rating(mu=0.635, sigma=8.216),\n",
       " 78: trueskill.Rating(mu=0.020, sigma=8.284),\n",
       " 79: trueskill.Rating(mu=1.072, sigma=8.247),\n",
       " 80: trueskill.Rating(mu=-0.101, sigma=8.246),\n",
       " 81: trueskill.Rating(mu=-0.940, sigma=8.276),\n",
       " 82: trueskill.Rating(mu=0.503, sigma=8.227),\n",
       " 83: trueskill.Rating(mu=0.694, sigma=8.225),\n",
       " 84: trueskill.Rating(mu=1.657, sigma=8.230),\n",
       " 85: trueskill.Rating(mu=2.700, sigma=8.197),\n",
       " 86: trueskill.Rating(mu=0.490, sigma=8.280),\n",
       " 87: trueskill.Rating(mu=1.342, sigma=8.244),\n",
       " 88: trueskill.Rating(mu=-0.862, sigma=8.225),\n",
       " 89: trueskill.Rating(mu=0.969, sigma=8.301),\n",
       " 90: trueskill.Rating(mu=0.727, sigma=8.213),\n",
       " 91: trueskill.Rating(mu=1.100, sigma=8.210),\n",
       " 92: trueskill.Rating(mu=-0.347, sigma=8.298),\n",
       " 93: trueskill.Rating(mu=0.410, sigma=8.280),\n",
       " 94: trueskill.Rating(mu=2.608, sigma=8.249),\n",
       " 95: trueskill.Rating(mu=0.467, sigma=8.230),\n",
       " 96: trueskill.Rating(mu=0.746, sigma=8.261),\n",
       " 97: trueskill.Rating(mu=-0.833, sigma=8.226),\n",
       " 98: trueskill.Rating(mu=1.967, sigma=8.230),\n",
       " 99: trueskill.Rating(mu=0.181, sigma=8.282),\n",
       " 100: trueskill.Rating(mu=-0.930, sigma=8.226),\n",
       " 101: trueskill.Rating(mu=0.441, sigma=8.231),\n",
       " 102: trueskill.Rating(mu=-1.401, sigma=8.242),\n",
       " 103: trueskill.Rating(mu=1.078, sigma=8.248),\n",
       " 104: trueskill.Rating(mu=0.679, sigma=8.263),\n",
       " 105: trueskill.Rating(mu=0.184, sigma=8.241),\n",
       " 106: trueskill.Rating(mu=-0.535, sigma=8.263),\n",
       " 107: trueskill.Rating(mu=2.676, sigma=8.247),\n",
       " 108: trueskill.Rating(mu=0.564, sigma=8.229),\n",
       " 109: trueskill.Rating(mu=0.163, sigma=8.194),\n",
       " 110: trueskill.Rating(mu=0.590, sigma=8.226),\n",
       " 111: trueskill.Rating(mu=0.839, sigma=8.213),\n",
       " 112: trueskill.Rating(mu=1.659, sigma=8.193),\n",
       " 113: trueskill.Rating(mu=1.016, sigma=8.213),\n",
       " 114: trueskill.Rating(mu=0.505, sigma=8.224),\n",
       " 115: trueskill.Rating(mu=0.489, sigma=8.228),\n",
       " 116: trueskill.Rating(mu=-0.353, sigma=8.209),\n",
       " 117: trueskill.Rating(mu=0.490, sigma=8.230),\n",
       " 118: trueskill.Rating(mu=0.686, sigma=8.264),\n",
       " 119: trueskill.Rating(mu=0.497, sigma=8.228),\n",
       " 120: trueskill.Rating(mu=2.511, sigma=8.249),\n",
       " 121: trueskill.Rating(mu=0.029, sigma=8.243),\n",
       " 122: trueskill.Rating(mu=0.746, sigma=8.261),\n",
       " 123: trueskill.Rating(mu=0.549, sigma=8.228),\n",
       " 124: trueskill.Rating(mu=0.095, sigma=8.244),\n",
       " 125: trueskill.Rating(mu=1.336, sigma=8.195),\n",
       " 126: trueskill.Rating(mu=1.035, sigma=8.251),\n",
       " 127: trueskill.Rating(mu=1.549, sigma=8.195),\n",
       " 128: trueskill.Rating(mu=-0.631, sigma=8.220),\n",
       " 129: trueskill.Rating(mu=-0.417, sigma=8.259),\n",
       " 130: trueskill.Rating(mu=0.563, sigma=8.227),\n",
       " 131: trueskill.Rating(mu=0.101, sigma=8.281),\n",
       " 132: trueskill.Rating(mu=0.237, sigma=8.276),\n",
       " 133: trueskill.Rating(mu=-0.116, sigma=8.247),\n",
       " 134: trueskill.Rating(mu=1.150, sigma=8.298),\n",
       " 135: trueskill.Rating(mu=0.396, sigma=8.228),\n",
       " 136: trueskill.Rating(mu=-0.469, sigma=8.260),\n",
       " 137: trueskill.Rating(mu=-0.536, sigma=8.257),\n",
       " 138: trueskill.Rating(mu=-0.028, sigma=8.248),\n",
       " 139: trueskill.Rating(mu=0.490, sigma=8.280),\n",
       " 140: trueskill.Rating(mu=-0.744, sigma=8.224),\n",
       " 141: trueskill.Rating(mu=-0.064, sigma=8.246),\n",
       " 142: trueskill.Rating(mu=1.667, sigma=8.234),\n",
       " 143: trueskill.Rating(mu=-0.427, sigma=8.299),\n",
       " 144: trueskill.Rating(mu=-1.338, sigma=8.241),\n",
       " 145: trueskill.Rating(mu=0.728, sigma=8.262),\n",
       " 146: trueskill.Rating(mu=2.497, sigma=8.252),\n",
       " 147: trueskill.Rating(mu=-0.414, sigma=8.210),\n",
       " 148: trueskill.Rating(mu=0.124, sigma=8.241),\n",
       " 149: trueskill.Rating(mu=1.385, sigma=8.288),\n",
       " 150: trueskill.Rating(mu=-0.654, sigma=8.264),\n",
       " 151: trueskill.Rating(mu=-0.319, sigma=8.208),\n",
       " 152: trueskill.Rating(mu=1.162, sigma=8.247),\n",
       " 153: trueskill.Rating(mu=2.511, sigma=8.249),\n",
       " 154: trueskill.Rating(mu=0.489, sigma=8.228),\n",
       " 155: trueskill.Rating(mu=1.496, sigma=8.284),\n",
       " 156: trueskill.Rating(mu=-0.542, sigma=8.264),\n",
       " 157: trueskill.Rating(mu=-1.035, sigma=8.278),\n",
       " 158: trueskill.Rating(mu=1.128, sigma=8.249),\n",
       " 159: trueskill.Rating(mu=0.902, sigma=8.259),\n",
       " 160: trueskill.Rating(mu=0.274, sigma=8.280),\n",
       " 161: trueskill.Rating(mu=0.955, sigma=8.211),\n",
       " 162: trueskill.Rating(mu=0.886, sigma=8.260),\n",
       " 163: trueskill.Rating(mu=2.676, sigma=8.247),\n",
       " 164: trueskill.Rating(mu=2.454, sigma=8.214),\n",
       " 165: trueskill.Rating(mu=-1.283, sigma=8.241),\n",
       " 166: trueskill.Rating(mu=0.728, sigma=8.267),\n",
       " 167: trueskill.Rating(mu=-1.456, sigma=8.243),\n",
       " 168: trueskill.Rating(mu=0.569, sigma=8.265),\n",
       " 169: trueskill.Rating(mu=0.481, sigma=8.229),\n",
       " 170: trueskill.Rating(mu=1.169, sigma=8.247),\n",
       " 171: trueskill.Rating(mu=-0.184, sigma=8.243),\n",
       " 172: trueskill.Rating(mu=1.249, sigma=8.251),\n",
       " 173: trueskill.Rating(mu=-0.836, sigma=8.223),\n",
       " 174: trueskill.Rating(mu=1.455, sigma=8.283),\n",
       " 175: trueskill.Rating(mu=0.625, sigma=8.266),\n",
       " 176: trueskill.Rating(mu=0.526, sigma=8.266),\n",
       " 177: trueskill.Rating(mu=0.445, sigma=8.318),\n",
       " 178: trueskill.Rating(mu=0.396, sigma=8.227),\n",
       " 179: trueskill.Rating(mu=1.851, sigma=8.179),\n",
       " 180: trueskill.Rating(mu=0.727, sigma=8.214),\n",
       " 181: trueskill.Rating(mu=0.170, sigma=8.278),\n",
       " 182: trueskill.Rating(mu=1.028, sigma=8.297),\n",
       " 183: trueskill.Rating(mu=0.350, sigma=8.189),\n",
       " 184: trueskill.Rating(mu=0.807, sigma=8.261),\n",
       " 185: trueskill.Rating(mu=1.372, sigma=8.286),\n",
       " 186: trueskill.Rating(mu=1.816, sigma=8.228),\n",
       " 187: trueskill.Rating(mu=2.676, sigma=8.247),\n",
       " 188: trueskill.Rating(mu=0.671, sigma=8.224),\n",
       " 189: trueskill.Rating(mu=-0.970, sigma=8.228),\n",
       " 190: trueskill.Rating(mu=0.490, sigma=8.230),\n",
       " 191: trueskill.Rating(mu=-1.789, sigma=8.257),\n",
       " 192: trueskill.Rating(mu=-0.535, sigma=8.263),\n",
       " 193: trueskill.Rating(mu=0.593, sigma=8.266),\n",
       " 194: trueskill.Rating(mu=1.798, sigma=8.272),\n",
       " 195: trueskill.Rating(mu=1.848, sigma=8.228),\n",
       " 196: trueskill.Rating(mu=0.074, sigma=8.245),\n",
       " 197: trueskill.Rating(mu=1.661, sigma=8.282),\n",
       " 198: trueskill.Rating(mu=0.803, sigma=8.213),\n",
       " 199: trueskill.Rating(mu=-0.434, sigma=8.258)}"
      ]
     },
     "execution_count": 81,
     "metadata": {},
     "output_type": "execute_result"
    }
   ],
   "source": [
    "people[0].learners"
   ]
  },
  {
   "cell_type": "code",
   "execution_count": 12,
   "metadata": {},
   "outputs": [],
   "source": [
    "reprs = []\n",
    "for i in people:\n",
    "    rep = []\n",
    "    for j in i.learners:\n",
    "        rep.append(i.learners[j].mu)\n",
    "    reprs.append(rep)"
   ]
  },
  {
   "cell_type": "code",
   "execution_count": 79,
   "metadata": {},
   "outputs": [
    {
     "data": {
      "text/plain": [
       "100"
      ]
     },
     "execution_count": 79,
     "metadata": {},
     "output_type": "execute_result"
    }
   ],
   "source": [
    "len(reprs.tolist())"
   ]
  },
  {
   "cell_type": "code",
   "execution_count": 13,
   "metadata": {},
   "outputs": [],
   "source": [
    "reprs = np.array(reprs)"
   ]
  },
  {
   "cell_type": "code",
   "execution_count": 14,
   "metadata": {},
   "outputs": [],
   "source": [
    "from sklearn.manifold import TSNE"
   ]
  },
  {
   "cell_type": "code",
   "execution_count": 15,
   "metadata": {},
   "outputs": [],
   "source": [
    "tsne = TSNE(n_components=2)"
   ]
  },
  {
   "cell_type": "code",
   "execution_count": 16,
   "metadata": {},
   "outputs": [],
   "source": [
    "tsne = tsne.fit(reprs)"
   ]
  },
  {
   "cell_type": "code",
   "execution_count": 17,
   "metadata": {},
   "outputs": [
    {
     "data": {
      "text/plain": [
       "<matplotlib.collections.PathCollection at 0x2870f64d710>"
      ]
     },
     "execution_count": 17,
     "metadata": {},
     "output_type": "execute_result"
    }
   ],
   "source": [
    "import matplotlib.pyplot as plt\n",
    "\n",
    "plt.scatter(tsne.embedding_[:,0],tsne.embedding_[:,1])"
   ]
  },
  {
   "cell_type": "code",
   "execution_count": 18,
   "metadata": {},
   "outputs": [
    {
     "data": {
      "text/plain": [
       "array([2.7734215, 2.7734218, 2.7734213, 2.775295 , 2.7752957, 2.7734215,\n",
       "       2.7752957, 2.7727587, 2.4088097, 2.420206 , 2.4210362, 2.4141579,\n",
       "       2.4202065, 2.4209797, 2.4202058, 2.4209797, 2.4202056, 2.4032288,\n",
       "       2.403228 , 2.402824 , 2.402916 , 2.4028244, 2.402824 , 2.4019146,\n",
       "       2.4018972, 2.4018965, 2.967619 , 2.4028237, 2.401897 , 2.9831343,\n",
       "       2.4023666, 2.0548644, 1.9817921, 2.0373547, 1.6472683, 3.079634 ,\n",
       "       2.403513 , 2.4093955, 2.4088092, 2.4088094, 2.408809 , 2.4088087,\n",
       "       2.5600307, 2.4018962, 2.4018972, 2.4019144, 2.4028232, 2.4028246,\n",
       "       2.4028242, 2.4018967, 2.4028246, 2.3806052, 2.4028244, 2.402824 ,\n",
       "       2.4029157, 2.4028249, 2.403229 , 2.4028244, 2.4032283, 2.4029162,\n",
       "       2.7727582, 2.7727592, 2.7727587, 2.7752957, 2.7733374, 2.7733366,\n",
       "       2.7727578, 2.7733376, 2.7733376, 2.7752953, 2.7727587, 2.7734218,\n",
       "       2.773337 , 2.775298 , 2.7752962, 2.7752953, 2.7752962, 2.7733378,\n",
       "       2.7752957, 2.7752964, 2.7752962, 2.7752953, 2.772758 , 2.7752957,\n",
       "       2.7733376, 2.7733378, 2.7733376, 2.7727587, 2.7733376, 2.7752962,\n",
       "       2.7733383, 2.7727582, 2.7733374, 2.8099883, 2.8067448, 2.8094733,\n",
       "       1.8969239, 1.8331425, 1.837395 , 1.8880148], dtype=float32)"
      ]
     },
     "execution_count": 18,
     "metadata": {},
     "output_type": "execute_result"
    }
   ],
   "source": [
    "tsne.embedding_[:,0]"
   ]
  },
  {
   "cell_type": "code",
   "execution_count": 76,
   "metadata": {},
   "outputs": [
    {
     "name": "stderr",
     "output_type": "stream",
     "text": [
      "C:\\Users\\mmolan\\AppData\\Local\\Continuum\\anaconda3\\envs\\sk_base\\lib\\site-packages\\sklearn\\cluster\\k_means_.py:971: ConvergenceWarning: Number of distinct clusters (1) found smaller than n_clusters (4). Possibly due to duplicate points in X.\n",
      "  return_n_iter=True)\n"
     ]
    },
    {
     "name": "stdout",
     "output_type": "stream",
     "text": [
      "[9.97550569e-01 1.97534766e-03 3.95069532e-04 7.90139064e-05]\n"
     ]
    },
    {
     "name": "stderr",
     "output_type": "stream",
     "text": [
      "C:\\Users\\mmolan\\AppData\\Local\\Continuum\\anaconda3\\envs\\sk_base\\lib\\site-packages\\sklearn\\mixture\\base.py:273: ConvergenceWarning: Initialization 1 did not converge. Try different init parameters, or increase max_iter, tol or check for degenerate data.\n",
      "  % (init + 1), ConvergenceWarning)\n"
     ]
    },
    {
     "data": {
      "text/plain": [
       "array([1, 1, 1, 1, 1, 1, 1, 1, 1, 1, 1, 1, 1, 1, 1, 1, 1, 1, 1, 1, 1, 1,\n",
       "       1, 1, 1, 1, 1, 1, 1, 1, 1, 1, 1, 1, 1, 1, 1, 1, 1, 1, 1, 1, 1, 1,\n",
       "       1, 1, 1, 1, 1, 1, 1, 1, 1, 1, 1, 1, 1, 1, 1, 1, 1, 1, 1, 1, 1, 1,\n",
       "       1, 1, 1, 1, 1, 1, 1, 1, 1, 1, 1, 1, 1, 1, 1, 1, 1, 1, 1, 1, 1, 1,\n",
       "       1, 1, 1, 1, 1, 1, 1, 1, 1, 1, 1, 1], dtype=int64)"
      ]
     },
     "execution_count": 76,
     "metadata": {},
     "output_type": "execute_result"
    }
   ],
   "source": [
    "from sklearn.mixture import BayesianGaussianMixture\n",
    "GM = BayesianGaussianMixture(n_components = 4, max_iter = 200)\n",
    "GM = GM.fit(reprs)\n",
    "print(GM.weights_)\n",
    "GM.predict(reprs)"
   ]
  },
  {
   "cell_type": "code",
   "execution_count": 2,
   "metadata": {},
   "outputs": [
    {
     "data": {
      "text/plain": [
       "[[0, 2, 3, 3, 2],\n",
       " [1, -1, -1, -1, -1],\n",
       " [2, -1, -1, -1, -1],\n",
       " [3, -1, -1, -1, -1],\n",
       " [-1, 3, -1, -1, -1],\n",
       " [-1, -1, -1, -1, 3]]"
      ]
     },
     "execution_count": 2,
     "metadata": {},
     "output_type": "execute_result"
    }
   ],
   "source": [
    "import SpeculativeRepresentation as SR\n",
    "SR.speculative_induction_pozitive([0,2,3,3,2],3)"
   ]
  },
  {
   "cell_type": "code",
   "execution_count": 3,
   "metadata": {},
   "outputs": [
    {
     "data": {
      "text/plain": [
       "[[0, 2, 3, 3, 2],\n",
       " [-1, 1, -1, -1, -1],\n",
       " [-1, 0, -1, -1, -1],\n",
       " [-1, -1, 2, -1, -1],\n",
       " [-1, -1, 1, -1, -1],\n",
       " [-1, -1, 0, -1, -1],\n",
       " [-1, -1, -1, 2, -1],\n",
       " [-1, -1, -1, 1, -1],\n",
       " [-1, -1, -1, 0, -1],\n",
       " [-1, -1, -1, -1, 1],\n",
       " [-1, -1, -1, -1, 0]]"
      ]
     },
     "execution_count": 3,
     "metadata": {},
     "output_type": "execute_result"
    }
   ],
   "source": [
    "SR.speculative_induction_negative([0,2,3,3,2])"
   ]
  },
  {
   "cell_type": "code",
   "execution_count": 48,
   "metadata": {},
   "outputs": [],
   "source": [
    "import operator\n",
    "x = people[0].learners\n",
    "sorted_x = sorted(x.items(), key=operator.itemgetter(1))"
   ]
  },
  {
   "cell_type": "code",
   "execution_count": 54,
   "metadata": {},
   "outputs": [],
   "source": [
    "import operator\n",
    "mu = {i:x[i].mu for i in x.keys()}\n",
    "sigma = {i:x[i].sigma for i in x.keys()}\n",
    "sorted_mu = sorted(mu.items(), key=operator.itemgetter(1))\n",
    "sorted_sigma = sorted(sigma.items(), key=operator.itemgetter(1))"
   ]
  },
  {
   "cell_type": "code",
   "execution_count": 60,
   "metadata": {},
   "outputs": [
    {
     "data": {
      "image/png": "[encoded data removed]",
      "text/plain": [
       "<Figure size 432x288 with 1 Axes>"
      ]
     },
     "metadata": {
      "needs_background": "light"
     },
     "output_type": "display_data"
    }
   ],
   "source": [
    "import matplotlib.pyplot as plt\n",
    "import numpy as np\n",
    "import scipy.stats as stats\n",
    "import math\n",
    "\n",
    "x = np.linspace(mu - 3*sigma, mu + 3*sigma, 100)\n",
    "for i in range(len(sorted_mu)):\n",
    "    mu = sorted_mu[i][1]\n",
    "    variance = sorted_sigma[i][1]\n",
    "    sigma = math.sqrt(variance)\n",
    "    plt.plot(x, stats.norm.pdf(x, mu, sigma))\n",
    "plt.show()"
   ]
  },
  {
   "cell_type": "code",
   "execution_count": null,
   "metadata": {},
   "outputs": [],
   "source": []
  },
  {
   "cell_type": "code",
   "execution_count": 30,
   "metadata": {},
   "outputs": [],
   "source": [
    "x = np.linspace(mu - 3*sigma, mu + 3*sigma, 100)"
   ]
  },
  {
   "cell_type": "code",
   "execution_count": 32,
   "metadata": {},
   "outputs": [
    {
     "data": {
      "text/plain": [
       "array([0.00154329, 0.00184762, 0.00220385, 0.00261912, 0.00310124,\n",
       "       0.00365864, 0.0043004 , 0.0050362 , 0.00587626, 0.00683132,\n",
       "       0.00791248, 0.00913116, 0.01049889, 0.01202724, 0.01372757,\n",
       "       0.01561082, 0.01768734, 0.01996661, 0.02245696, 0.02516531,\n",
       "       0.0280969 , 0.03125499, 0.03464058, 0.03825213, 0.04208535,\n",
       "       0.04613293, 0.05038439, 0.05482589, 0.05944019, 0.06420657,\n",
       "       0.06910088, 0.07409561, 0.07916007, 0.08426062, 0.08936098,\n",
       "       0.09442261, 0.09940514, 0.10426691, 0.10896549, 0.11345829,\n",
       "       0.1177032 , 0.12165924, 0.12528721, 0.12855033, 0.13141484,\n",
       "       0.13385063, 0.13583174, 0.13733678, 0.1383494 , 0.1388585 ,\n",
       "       0.1388585 , 0.1383494 , 0.13733678, 0.13583174, 0.13385063,\n",
       "       0.13141484, 0.12855033, 0.12528721, 0.12165924, 0.1177032 ,\n",
       "       0.11345829, 0.10896549, 0.10426691, 0.09940514, 0.09442261,\n",
       "       0.08936098, 0.08426062, 0.07916007, 0.07409561, 0.06910088,\n",
       "       0.06420657, 0.05944019, 0.05482589, 0.05038439, 0.04613293,\n",
       "       0.04208535, 0.03825213, 0.03464058, 0.03125499, 0.0280969 ,\n",
       "       0.02516531, 0.02245696, 0.01996661, 0.01768734, 0.01561082,\n",
       "       0.01372757, 0.01202724, 0.01049889, 0.00913116, 0.00791248,\n",
       "       0.00683132, 0.00587626, 0.0050362 , 0.0043004 , 0.00365864,\n",
       "       0.00310124, 0.00261912, 0.00220385, 0.00184762, 0.00154329])"
      ]
     },
     "execution_count": 32,
     "metadata": {},
     "output_type": "execute_result"
    }
   ],
   "source": [
    "stats.norm.pdf(x, mu, sigma)"
   ]
  },
  {
   "cell_type": "code",
   "execution_count": 92,
   "metadata": {},
   "outputs": [],
   "source": [
    "n_of_attributes = 4 + 3 + 3\n",
    "n_of_values = 4"
   ]
  },
  {
   "cell_type": "code",
   "execution_count": 100,
   "metadata": {},
   "outputs": [],
   "source": [
    "def skill_to_parm(TrueSkillObject):\n",
    "    parms = []\n",
    "    for i in TrueSkillObject.learners.keys():\n",
    "        parms.append([TrueSkillObject.learners[i].mu,TrueSkillObject.learners[i].sigma])\n",
    "    return parms\n",
    "\n",
    "def parm_to_skill(parms):\n",
    "    skill = TrueSkill_classifier()\n",
    "    for i in range(len(parms)):\n",
    "        skill.learners[i] = t.Rating(parms[i][0],parms[i][1])\n",
    "    return skill"
   ]
  },
  {
   "cell_type": "code",
   "execution_count": 101,
   "metadata": {},
   "outputs": [
    {
     "data": {
      "text/plain": [
       "[[1.1363856222474222, 8.246627286984758],\n",
       " [-0.12462727056105051, 8.247884322966403],\n",
       " [1.0211722393490061, 8.251798451455963],\n",
       " [0.7935838471923997, 8.173909508458165],\n",
       " [0.8458225433284366, 8.263803539315136],\n",
       " [2.3886798105796143, 8.213849004672937],\n",
       " [1.8940298900427277, 8.267620278003307],\n",
       " [0.4292933503574946, 8.224890320312296],\n",
       " [1.5414275334248297, 8.244487859280706],\n",
       " [0.08950123806928136, 8.24416917605372],\n",
       " [1.7468822668928357, 8.27900595830752],\n",
       " [1.6838830886620173, 8.230332683961416],\n",
       " [-0.5264234072517853, 8.262507949338996],\n",
       " [-0.7588935674284012, 8.261659924837017],\n",
       " [0.41503116242982724, 8.227050548014471],\n",
       " [0.9254550476072707, 8.26282883606279],\n",
       " [1.9648255046293996, 8.227954934407725],\n",
       " [0.41528465568865824, 8.225730542163534],\n",
       " [-0.013702443476577179, 8.247047440198003],\n",
       " [0.9794322701253667, 8.249786243720282],\n",
       " [1.1592430584253421, 8.208355654989784],\n",
       " [2.0020368691727946, 8.26646722257691],\n",
       " [0.9310152402277166, 8.301961738957111],\n",
       " [1.3132374159847935, 8.245689011221227],\n",
       " [1.658806822849034, 8.231523693123615],\n",
       " [0.08950123806928117, 8.24416917605372],\n",
       " [-0.1246272705610511, 8.247884322966403],\n",
       " [0.6086198794243899, 8.226437663488245],\n",
       " [-0.5438583466268176, 8.261413189291506],\n",
       " [1.1146639128952271, 8.211598303488577],\n",
       " [-0.6313336342426109, 8.220055139793997],\n",
       " [0.01967967185703146, 8.283875287575396],\n",
       " [1.175060855557356, 8.248089117332055],\n",
       " [-0.6453718480843831, 8.260508748719717],\n",
       " [0.8206177095074502, 8.259978314074143],\n",
       " [0.3172481506813187, 8.189813651831876],\n",
       " [1.6426531656067727, 8.231259693663825],\n",
       " [0.32997189512327907, 8.281362799096291],\n",
       " [1.1442302687920156, 8.247757092965614],\n",
       " [-0.8001929890987449, 8.262766067958223],\n",
       " [-1.3785209836138672, 8.243585660655521],\n",
       " [1.9921295214623704, 8.267983667720825],\n",
       " [2.002428885714956, 8.266709007533144],\n",
       " [0.10109090067267928, 8.28071064691268],\n",
       " [1.2668100576544825, 8.251684814885666],\n",
       " [1.0065491290990327, 8.21362911342278],\n",
       " [1.130461075724853, 8.24871432758389],\n",
       " [0.49692315927788505, 8.26835908856946],\n",
       " [1.3586890702334395, 8.247511608955383],\n",
       " [0.7203366328556813, 8.264103414278914],\n",
       " [2.240809674554309, 8.214080226400915],\n",
       " [0.06655296105509967, 8.282759546134066],\n",
       " [-0.3122337888994735, 8.29628688530501],\n",
       " [2.5230482273982675, 8.25251597482731],\n",
       " [0.4292933503574947, 8.224890320312296],\n",
       " [0.6681244064768377, 8.26335375486068],\n",
       " [0.482361528644621, 8.229953351049213],\n",
       " [1.760719284222776, 8.227141973749866],\n",
       " [-0.5070433037621661, 8.261544896846194],\n",
       " [0.5262447998308096, 8.316365276951695],\n",
       " [0.32036128892704485, 8.229268871649316],\n",
       " [1.2437260056271573, 8.245483277047514],\n",
       " [0.6992358583083832, 8.176084046846361],\n",
       " [1.4339555873842558, 8.247258779584568],\n",
       " [1.6473380113576583, 8.280843486004745],\n",
       " [1.4955448015264872, 8.284467518788631],\n",
       " [1.1556491979478236, 8.247516255625037],\n",
       " [0.4042371981858285, 8.230699050610072],\n",
       " [-0.3728601985302711, 8.259133375661909],\n",
       " [0.9476078461798646, 8.208597680673652],\n",
       " [-0.5359532518814687, 8.257414219784286],\n",
       " [0.6206461005377957, 8.264293460579523],\n",
       " [1.548709666974329, 8.194528258369845],\n",
       " [0.8947898748146362, 8.209716894741561],\n",
       " [0.09459949937161509, 8.242639944348117],\n",
       " [1.0054971305099458, 8.212316146483387],\n",
       " [-0.31223378889947356, 8.29628688530501],\n",
       " [0.6347683359548244, 8.215874758652744],\n",
       " [0.01967967185703122, 8.283875287575396],\n",
       " [1.0716784656309444, 8.246639133914995],\n",
       " [-0.10092765675766793, 8.245863381361337],\n",
       " [-0.9396215394569494, 8.275597190636827],\n",
       " [0.5025965805091681, 8.227374876374677],\n",
       " [0.6935929534501623, 8.225385793782458],\n",
       " [1.6566442147186333, 8.230417922639198],\n",
       " [2.700011088897695, 8.197123649946839],\n",
       " [0.4904386236440955, 8.279513518026066],\n",
       " [1.342319034736723, 8.243668901688814],\n",
       " [-0.8617656705132545, 8.225257414016355],\n",
       " [0.9688849130495293, 8.300806709230482],\n",
       " [0.727283013491441, 8.212767668380351],\n",
       " [1.0998838927616508, 8.210219962923423],\n",
       " [-0.34697708646185976, 8.298347817973141],\n",
       " [0.410282483864282, 8.28049341580454],\n",
       " [2.608085407706496, 8.249366518886298],\n",
       " [0.46731161645417335, 8.229582059415469],\n",
       " [0.7455790115310152, 8.261041151340661],\n",
       " [-0.8333996210254375, 8.226227106737468],\n",
       " [1.9666576131699767, 8.230293320984407],\n",
       " [0.18068928535380635, 8.281599482648911],\n",
       " [-0.9297711489386432, 8.226107957246908],\n",
       " [0.4405685938374819, 8.23082922390449],\n",
       " [-1.4008346711931678, 8.242499305370472],\n",
       " [1.0781744532662876, 8.247969010495893],\n",
       " [0.6789145985989589, 8.262942878131609],\n",
       " [0.18357869975873087, 8.240610634161841],\n",
       " [-0.5346688644404598, 8.263268573978145],\n",
       " [2.6759525297355653, 8.246999436627318],\n",
       " [0.5639844439586861, 8.228684950406242],\n",
       " [0.16259415148414633, 8.19400822635875],\n",
       " [0.5900860200168634, 8.225573837315997],\n",
       " [0.8391625027928868, 8.212949523524632],\n",
       " [1.6594546510423582, 8.193405093934079],\n",
       " [1.0158979156707628, 8.212578417169508],\n",
       " [0.5047163629767409, 8.223624831207223],\n",
       " [0.4886017044478523, 8.228324994176802],\n",
       " [-0.3530578099746521, 8.20889883063757],\n",
       " [0.48956665580756203, 8.229645766697931],\n",
       " [0.6859822861862268, 8.264281925870382],\n",
       " [0.49681302404256955, 8.227574205357136],\n",
       " [2.5111688783017114, 8.249246355953021],\n",
       " [0.02880499743594382, 8.242851532371839],\n",
       " [0.7455790115310149, 8.261041151340661],\n",
       " [0.5491993466451582, 8.227768103124912],\n",
       " [0.09535846530361958, 8.243968093906284],\n",
       " [1.336279342592328, 8.194768966296358],\n",
       " [1.0349669414155378, 8.250840136663014],\n",
       " [1.5487096669743288, 8.194528258369845],\n",
       " [-0.6313336342426111, 8.220055139793997],\n",
       " [-0.4169516387328399, 8.25941116127899],\n",
       " [0.5628293741696496, 8.227363898127564],\n",
       " [0.10109090067267892, 8.28071064691268],\n",
       " [0.23704311234417505, 8.276380787470915],\n",
       " [-0.11645728996300334, 8.24712810329084],\n",
       " [1.1501982771888246, 8.297653723473939],\n",
       " [0.3959654340722199, 8.228001579338143],\n",
       " [-0.46912109303914257, 8.26035006013577],\n",
       " [-0.5359532518814686, 8.257414219784286],\n",
       " [-0.027742865518977634, 8.24800442608397],\n",
       " [0.490438623644095, 8.279513518026066],\n",
       " [-0.7442224493981753, 8.224120823167318],\n",
       " [-0.06424038675132814, 8.245994281253155],\n",
       " [1.6674172901580642, 8.233664483566105],\n",
       " [-0.4265250114217379, 8.299335264948349],\n",
       " [-1.337642104981193, 8.241365682316014],\n",
       " [0.7275229995124204, 8.261803016733197],\n",
       " [2.4967052241869907, 8.252383572746547],\n",
       " [-0.41389004042118716, 8.210220478757263],\n",
       " [0.12350812412510992, 8.240621307798015],\n",
       " [1.3854047474404771, 8.287592747272596],\n",
       " [-0.6535176966425688, 8.26442121819405],\n",
       " [-0.31881856656773, 8.208018021503666],\n",
       " [1.1621787991031491, 8.246999959660938],\n",
       " [2.5111688783017114, 8.249246355953021],\n",
       " [0.4886017044478517, 8.228324994176802],\n",
       " [1.4955448015264867, 8.284467518788631],\n",
       " [-0.5419767160498448, 8.263579502672538],\n",
       " [-1.0351406023460872, 8.277856093690371],\n",
       " [1.1280731790522758, 8.249023398046152],\n",
       " [0.9019263368694228, 8.258695184978489],\n",
       " [0.274302355976145, 8.279761890109109],\n",
       " [0.9551036205236256, 8.21127652895904],\n",
       " [0.8856670223797096, 8.259966803146929],\n",
       " [2.675952529735565, 8.246999436627318],\n",
       " [2.4542593510950588, 8.213837801205596],\n",
       " [-1.2828126317514932, 8.241355677589842],\n",
       " [0.7279483020554909, 8.266837297061056],\n",
       " [-1.4556983584255496, 8.242509557388408],\n",
       " [0.5692008187357211, 8.26518157692828],\n",
       " [0.4814129982547372, 8.22863191992967],\n",
       " [1.1685335068576064, 8.246759182365732],\n",
       " [-0.1837153845077582, 8.243096686915175],\n",
       " [1.249432284183888, 8.250594375681644],\n",
       " [-0.8360580620528703, 8.222988595489413],\n",
       " [1.454705478343226, 8.282985062448974],\n",
       " [0.6246302669804648, 8.266241612927821],\n",
       " [0.5262193104455825, 8.266322153229101],\n",
       " [0.4446155448864703, 8.317676116641017],\n",
       " [0.3961954874949779, 8.226681302352164],\n",
       " [1.8510106603374448, 8.178661401575486],\n",
       " [0.727035886788339, 8.214080742966981],\n",
       " [0.16976567304637202, 8.278293568789628],\n",
       " [1.0276595459705462, 8.297464321470393],\n",
       " [0.3500642229309599, 8.188739898600046],\n",
       " [0.806597076793433, 8.260939776632439],\n",
       " [1.3721420871000256, 8.286487018506401],\n",
       " [1.8163694150403402, 8.22818753193122],\n",
       " [2.6759525297355644, 8.246999436627318],\n",
       " [0.6714687402219844, 8.224307236603968],\n",
       " [-0.9704302838798936, 8.228315141570427],\n",
       " [0.48956665580756054, 8.229645766697931],\n",
       " [-1.7889185732869364, 8.256581417537324],\n",
       " [-0.5346688644404614, 8.263268573978145],\n",
       " [0.5925519520468252, 8.266108831315144],\n",
       " [1.7978636866599378, 8.272067207782493],\n",
       " [1.8478166588369451, 8.228317905478724],\n",
       " [0.07410769272953659, 8.245233370478601],\n",
       " [1.6613514693189673, 8.282191115465857],\n",
       " [0.8025148001356855, 8.212820730112636],\n",
       " [-0.43431341219449143, 8.258318213989055]]"
      ]
     },
     "execution_count": 101,
     "metadata": {},
     "output_type": "execute_result"
    }
   ],
   "source": [
    "skill_to_parm(learner)"
   ]
  },
  {
   "cell_type": "code",
   "execution_count": 102,
   "metadata": {},
   "outputs": [
    {
     "data": {
      "text/plain": [
       "array([2.84283851])"
      ]
     },
     "execution_count": 102,
     "metadata": {},
     "output_type": "execute_result"
    }
   ],
   "source": [
    "np.random.normal(mu, sigma, 1)"
   ]
  },
  {
   "cell_type": "code",
   "execution_count": 103,
   "metadata": {},
   "outputs": [],
   "source": [
    "def generate_users(N):\n",
    "    users = {}\n",
    "    for i in range(N):\n",
    "        users['AutoGenerated{}'.format(i)] = [[np.random.normal(0, 0.5, 1)[0],np.random.normal(6,0.5,1)[0]] \n",
    "                                              for i in range(n_of_attributes*n_of_values)]\n",
    "    return users"
   ]
  },
  {
   "cell_type": "code",
   "execution_count": 107,
   "metadata": {},
   "outputs": [],
   "source": [
    "import GenerateUsers as G"
   ]
  },
  {
   "cell_type": "code",
   "execution_count": 108,
   "metadata": {},
   "outputs": [
    {
     "ename": "NameError",
     "evalue": "name 'n_of_attributes' is not defined",
     "output_type": "error",
     "traceback": [
      "\u001b[1;31m---------------------------------------------------------------------------\u001b[0m",
      "\u001b[1;31mNameError\u001b[0m                                 Traceback (most recent call last)",
      "\u001b[1;32m<ipython-input-108-03abc2c436d7>\u001b[0m in \u001b[0;36m<module>\u001b[1;34m\u001b[0m\n\u001b[1;32m----> 1\u001b[1;33m \u001b[0mG\u001b[0m\u001b[1;33m.\u001b[0m\u001b[0mgenerate_users\u001b[0m\u001b[1;33m(\u001b[0m\u001b[1;36m100\u001b[0m\u001b[1;33m)\u001b[0m\u001b[1;33m\u001b[0m\u001b[1;33m\u001b[0m\u001b[0m\n\u001b[0m",
      "\u001b[1;32m~\\Documents\\AI\\London2019\\Special-needs-recommendation-engine-v2\\backend\\martinscripts\\GenerateUsers.py\u001b[0m in \u001b[0;36mgenerate_users\u001b[1;34m(N)\u001b[0m\n\u001b[0;32m      3\u001b[0m     \u001b[1;32mfor\u001b[0m \u001b[0mi\u001b[0m \u001b[1;32min\u001b[0m \u001b[0mrange\u001b[0m\u001b[1;33m(\u001b[0m\u001b[0mN\u001b[0m\u001b[1;33m)\u001b[0m\u001b[1;33m:\u001b[0m\u001b[1;33m\u001b[0m\u001b[1;33m\u001b[0m\u001b[0m\n\u001b[0;32m      4\u001b[0m         users['AutoGenerated{}'.format(i)] = [[np.random.normal(0, 0.5, 1)[0],np.random.normal(6,0.5,1)[0]] \n\u001b[1;32m----> 5\u001b[1;33m                                               for i in range(n_of_attributes*n_of_values)]\n\u001b[0m\u001b[0;32m      6\u001b[0m     \u001b[1;32mreturn\u001b[0m \u001b[0musers\u001b[0m\u001b[1;33m\u001b[0m\u001b[1;33m\u001b[0m\u001b[0m\n",
      "\u001b[1;31mNameError\u001b[0m: name 'n_of_attributes' is not defined"
     ]
    }
   ],
   "source": [
    "G.generate_users(100)"
   ]
  },
  {
   "cell_type": "code",
   "execution_count": null,
   "metadata": {},
   "outputs": [],
   "source": []
  }
 ],
 "metadata": {
  "kernelspec": {
   "display_name": "sk_base",
   "language": "python",
   "name": "sk_base"
  },
  "language_info": {
   "codemirror_mode": {
    "name": "ipython",
    "version": 3
   },
   "file_extension": ".py",
   "mimetype": "text/x-python",
   "name": "python",
   "nbconvert_exporter": "python",
   "pygments_lexer": "ipython3",
   "version": "3.7.3"
  }
 },
 "nbformat": 4,
 "nbformat_minor": 2
}
