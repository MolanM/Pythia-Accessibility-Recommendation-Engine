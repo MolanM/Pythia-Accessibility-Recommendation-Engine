{
 "cells": [
  {
   "cell_type": "code",
   "execution_count": 1,
   "metadata": {},
   "outputs": [],
   "source": [
    "import itertools\n",
    "import math\n",
    "import trueskill as t\n",
    "import numpy as np\n",
    "\n",
    "\n",
    "class TrueSkill_classifier:\n",
    "    def __init__(self, starting_skill = 0, starting_var = (25/3), BETA = 25/6):\n",
    "        #starting skill is defenitly 0, starting var has to be determined\n",
    "        self.st_skill = starting_skill\n",
    "        self.st_var = starting_var\n",
    "        self.BETA = BETA\n",
    "        self.learners = {}\n",
    "        \n",
    "\n",
    "\n",
    "    def win_probability(self,team1, team2):\n",
    "        delta_mu = sum(r.mu for r in team1) - sum(r.mu for r in team2)\n",
    "        sum_sigma = sum(r.sigma ** 2 for r in itertools.chain(team1, team2))\n",
    "        size = len(team1) + len(team2)\n",
    "        denom = math.sqrt(size * (self.BETA * self.BETA) + sum_sigma)\n",
    "        ts = t.global_env()\n",
    "        return ts.cdf(delta_mu / denom)\n",
    "\n",
    "    \n",
    "    \n",
    "    def fit(self,X,y, bias = False):\n",
    "        #each instance of X is its own team\n",
    "        #each feature is its own player\n",
    "        \n",
    "        #initialise features\n",
    "        if self.learners == {}:\n",
    "            for i in range(X.shape[1]):\n",
    "                self.learners[i] = t.Rating(self.st_skill,self.st_var)\n",
    "        \n",
    "        if bias == True:\n",
    "            \n",
    "            self.learners['B'] = t.Rating(self.st_skill,self.st_var)\n",
    "            \n",
    "        #iterate over rows\n",
    "        for i in range(X.shape[0]):\n",
    "            \n",
    "            #print(X[i,:])\n",
    "            active_features = np.where(X[i,:] == 1)[0]\n",
    "            \n",
    "            \n",
    "                \n",
    "            #print(active_features)\n",
    "            \n",
    "            team_features = [self.learners[i] for i in active_features]\n",
    "            \n",
    "            if bias == True:\n",
    "                team_features.append(self.learners['B'])\n",
    "                \n",
    "            dummy_features = [t.Rating(0,1/10000) for i in active_features]\n",
    "            if y[i] == 1:\n",
    "                #lower rank is better!!!\n",
    "                (team_features,_) = t.rate([team_features,dummy_features],ranks=[0,1])\n",
    "            else:\n",
    "                (team_features,_) = t.rate([team_features,dummy_features],ranks=[1,0])\n",
    "                \n",
    "                            \n",
    "            #print(team_features[-1])\n",
    "            \n",
    "            for i in range(len(active_features)):\n",
    "                    #print(active_features[i])\n",
    "                self.learners[active_features[i]] = team_features[i]\n",
    "            \n",
    "            #update learners\n",
    "            if bias == True:\n",
    "                self.learners['B'] = team_features[-1]\n",
    "                #print(self.learners['B'])\n",
    "            \n",
    "        return None\n",
    "            \n",
    "    \n",
    "    \n",
    "    \n",
    "    def predict_proba(self,X):\n",
    "        #prediction is evaluation of instance against dummy team\n",
    "        \n",
    "        #predicted vector (probability that first wins)\n",
    "        y_pred = []\n",
    "        for i in range(X.shape[0]):\n",
    "            active_features = np.where(X[i,:] == 1)[0]\n",
    "\n",
    "            team_features = [self.learners[i] for i in active_features]\n",
    "            dummy_features = [t.Rating(0,1/10000) for i in active_features]\n",
    "            \n",
    "            y_pred.append(self.win_probability(team_features,dummy_features))\n",
    "        return y_pred\n",
    "    \n",
    "    def predict(self,X):\n",
    "        y_proba = self.predict_proba(X)\n",
    "        \n",
    "        return([1 if i > 0.5 else 0 for i in y_proba])\n",
    "        \n",
    "        "
   ]
  },
  {
   "cell_type": "code",
   "execution_count": 2,
   "metadata": {},
   "outputs": [],
   "source": [
    "learner = TrueSkill_classifier()"
   ]
  },
  {
   "cell_type": "code",
   "execution_count": 3,
   "metadata": {},
   "outputs": [],
   "source": [
    "learner.fit(np.array([[0,1,1,1,0]]),[1])"
   ]
  },
  {
   "cell_type": "code",
   "execution_count": 4,
   "metadata": {},
   "outputs": [
    {
     "data": {
      "text/plain": [
       "{0: trueskill.Rating(mu=0.000, sigma=8.333),\n",
       " 1: trueskill.Rating(mu=3.318, sigma=7.706),\n",
       " 2: trueskill.Rating(mu=3.318, sigma=7.706),\n",
       " 3: trueskill.Rating(mu=3.318, sigma=7.706),\n",
       " 4: trueskill.Rating(mu=0.000, sigma=8.333)}"
      ]
     },
     "execution_count": 4,
     "metadata": {},
     "output_type": "execute_result"
    }
   ],
   "source": [
    "learner.learners"
   ]
  },
  {
   "cell_type": "code",
   "execution_count": 5,
   "metadata": {},
   "outputs": [
    {
     "data": {
      "text/plain": [
       "[0.7232203947847158]"
      ]
     },
     "execution_count": 5,
     "metadata": {},
     "output_type": "execute_result"
    }
   ],
   "source": [
    "learner.predict_proba(np.array([[0,1,1,1,0]]))\n"
   ]
  },
  {
   "cell_type": "code",
   "execution_count": 6,
   "metadata": {},
   "outputs": [],
   "source": [
    "X = np.random.randint(2,size = (10,200))\n",
    "y = np.random.randint(2,size = (1,200))[0]"
   ]
  },
  {
   "cell_type": "code",
   "execution_count": 7,
   "metadata": {},
   "outputs": [],
   "source": [
    "people = []\n",
    "for i in range(10):\n",
    "    learner = TrueSkill_classifier()\n",
    "    learner.fit(X,y)\n",
    "    people.append(learner)"
   ]
  },
  {
   "cell_type": "code",
   "execution_count": 8,
   "metadata": {},
   "outputs": [],
   "source": [
    "import operator\n",
    "import scipy.stats as stats\n",
    "def display(learner):\n",
    "    #user = User.objects.get(username=name)\n",
    "    #learner = Serial.parm_to_skill(user.userinfo.params[0])\n",
    "    x = np.linspace(-5, 5, 100)\n",
    "    y = []\n",
    "\n",
    "    l = learner.learners\n",
    "    mu = {i: l[i].mu for i in l.keys()}\n",
    "    sigma = {i: l[i].sigma for i in l.keys()}\n",
    "    sorted_mu = sorted(mu.items(), key=operator.itemgetter(1))\n",
    "    sorted_sigma = sorted(sigma.items(), key=operator.itemgetter(1))\n",
    "    for i in range(len(sorted_mu)):\n",
    "        mu = sorted_mu[i][1]\n",
    "        variance = sorted_sigma[i][1]\n",
    "        sigma = math.sqrt(variance)\n",
    "        y.append(stats.norm.pdf(x, mu, sigma))\n",
    "\n",
    "    return([list(x), list(y)])"
   ]
  },
  {
   "cell_type": "code",
   "execution_count": 9,
   "metadata": {},
   "outputs": [
    {
     "data": {
      "text/plain": [
       "2"
      ]
     },
     "execution_count": 9,
     "metadata": {},
     "output_type": "execute_result"
    }
   ],
   "source": [
    "len(display(people[0]))"
   ]
  },
  {
   "cell_type": "code",
   "execution_count": 10,
   "metadata": {},
   "outputs": [],
   "source": [
    "attributes = {\n",
    "'Perception' : {\n",
    "'Text alternatives':{},\n",
    "'Time-based media':{},\n",
    "'Adaptability':{},\n",
    "'Distinguishability':{}\n",
    "},\n",
    "'Operability' : {\n",
    "'Keyboard accessibility':{},\n",
    "'Time limitation':{},\n",
    "'Navigation':{}\n",
    "},\n",
    "'Understandability' :{\n",
    "'Readability':{},\n",
    "'Predictability':{},\n",
    "'Help with input':{}\n",
    "}  \n",
    "}"
   ]
  },
  {
   "cell_type": "code",
   "execution_count": 11,
   "metadata": {},
   "outputs": [
    {
     "data": {
      "text/plain": [
       "-0.443409494723795"
      ]
     },
     "execution_count": 11,
     "metadata": {},
     "output_type": "execute_result"
    }
   ],
   "source": [
    "people[0].learners[0].mu"
   ]
  },
  {
   "cell_type": "code",
   "execution_count": 12,
   "metadata": {},
   "outputs": [],
   "source": [
    "import copy\n",
    "def learners_to_dict(learners):\n",
    "    i = 0\n",
    "    user_attributes = copy.deepcopy(attributes)\n",
    "    for topic in attributes.keys():\n",
    "        for feature in attributes[topic].keys():\n",
    "            user_attributes[topic][feature] = {}\n",
    "            for value in range(4):\n",
    "                user_attributes[topic][feature][value] = {'mu' : learners[i].mu, 'sigma' : learners[i].sigma}\n",
    "                i += 1\n",
    "    return user_attributes"
   ]
  },
  {
   "cell_type": "code",
   "execution_count": 13,
   "metadata": {},
   "outputs": [
    {
     "data": {
      "text/plain": [
       "{'Text alternatives': {0: {'mu': -0.443409494723795,\n",
       "   'sigma': 8.262375992294555},\n",
       "  1: {'mu': 1.5351564065273866, 'sigma': 8.24703006751618},\n",
       "  2: {'mu': 2.3794182946565012, 'sigma': 8.247235602224679},\n",
       "  3: {'mu': 0.12795298409881664, 'sigma': 8.301719577021892}},\n",
       " 'Time-based media': {0: {'mu': 1.2223169220642662,\n",
       "   'sigma': 8.273011985128838},\n",
       "  1: {'mu': 0.2988854926848846, 'sigma': 8.266803935165335},\n",
       "  2: {'mu': 1.7343635949038192, 'sigma': 8.281161880313315},\n",
       "  3: {'mu': 0.3614934338061148, 'sigma': 8.272279680718896}},\n",
       " 'Adaptability': {0: {'mu': 0.28018688648482615, 'sigma': 8.24988836356247},\n",
       "  1: {'mu': -0.07835861306685317, 'sigma': 8.215274121465352},\n",
       "  2: {'mu': 0.5067848330214965, 'sigma': 8.236345645451074},\n",
       "  3: {'mu': 0.2978753260954983, 'sigma': 8.232338155297017}},\n",
       " 'Distinguishability': {0: {'mu': -1.6201393694886297,\n",
       "   'sigma': 8.252650465838821},\n",
       "  1: {'mu': 0.9445541302297956, 'sigma': 8.226005903841916},\n",
       "  2: {'mu': 0.2980089555169598, 'sigma': 8.262837555598688},\n",
       "  3: {'mu': -1.121776402589777, 'sigma': 8.235801714132771}}}"
      ]
     },
     "execution_count": 13,
     "metadata": {},
     "output_type": "execute_result"
    }
   ],
   "source": [
    "import annotate_learners as al\n",
    "a_l = al.annotate_learner(people[0].learners)\n",
    "a_l['Perception']"
   ]
  },
  {
   "cell_type": "code",
   "execution_count": 14,
   "metadata": {},
   "outputs": [],
   "source": [
    "def return_biggest_value_mu(feature_dict):\n",
    "    max_value = list(feature_dict.keys())[0]\n",
    "    max_mu = 0\n",
    "    max_sigma = 0\n",
    "    for value in feature_dict.keys():\n",
    "        if abs(feature_dict[value]['mu']) > abs(feature_dict[max_value]['mu']):\n",
    "            max_value = value\n",
    "            max_mu = feature_dict[value]['mu']\n",
    "            max_sigma = feature_dict[value]['sigma']\n",
    "    return {'max_value':value, 'mu':max_mu, 'sigma':max_sigma}"
   ]
  },
  {
   "cell_type": "code",
   "execution_count": 22,
   "metadata": {},
   "outputs": [
    {
     "data": {
      "text/plain": [
       "{'Perception': {'max_value': 3,\n",
       "  'mu': 0.5067848330214965,\n",
       "  'sigma': 8.236345645451074},\n",
       " 'Operability': {'max_value': 3,\n",
       "  'mu': 2.1250547115557126,\n",
       "  'sigma': 8.250793607014488},\n",
       " 'Understandability': {'max_value': 3,\n",
       "  'mu': 2.5894606959934103,\n",
       "  'sigma': 8.225144015594239}}"
      ]
     },
     "execution_count": 22,
     "metadata": {},
     "output_type": "execute_result"
    }
   ],
   "source": [
    "al.player_summary(people[0].learners)"
   ]
  },
  {
   "cell_type": "code",
   "execution_count": 16,
   "metadata": {},
   "outputs": [
    {
     "data": {
      "text/plain": [
       "{'max_value': 3, 'mu': 0, 'sigma': 0}"
      ]
     },
     "execution_count": 16,
     "metadata": {},
     "output_type": "execute_result"
    }
   ],
   "source": [
    "return_biggest_value_mu(a_l['Perception']['Distinguishability'])"
   ]
  },
  {
   "cell_type": "code",
   "execution_count": 17,
   "metadata": {},
   "outputs": [],
   "source": [
    "def return_summary_gaussian(annotated_dict):\n",
    "    summary = {}\n",
    "    for topic in annotated_dict.keys():\n",
    "        summary[topic] = {}\n",
    "        biggest_mu = 0\n",
    "        for feature in annotated_dict[topic].keys():\n",
    "            feature_dict = return_biggest_value_mu(annotated_dict[topic][feature])\n",
    "            \n",
    "            if abs(feature_dict['mu']) > abs(biggest_mu):\n",
    "                summary[topic] = feature_dict\n",
    "    return(summary)"
   ]
  },
  {
   "cell_type": "code",
   "execution_count": null,
   "metadata": {},
   "outputs": [],
   "source": []
  },
  {
   "cell_type": "code",
   "execution_count": 18,
   "metadata": {},
   "outputs": [
    {
     "data": {
      "text/plain": [
       "{'Perception': {'max_value': 3,\n",
       "  'mu': 0.5067848330214965,\n",
       "  'sigma': 8.236345645451074},\n",
       " 'Operability': {'max_value': 3,\n",
       "  'mu': 2.1250547115557126,\n",
       "  'sigma': 8.250793607014488},\n",
       " 'Understandability': {'max_value': 3,\n",
       "  'mu': 2.5894606959934103,\n",
       "  'sigma': 8.225144015594239}}"
      ]
     },
     "execution_count": 18,
     "metadata": {},
     "output_type": "execute_result"
    }
   ],
   "source": [
    "return_summary_gaussian(a_l)"
   ]
  },
  {
   "cell_type": "code",
   "execution_count": 19,
   "metadata": {},
   "outputs": [
    {
     "data": {
      "text/plain": [
       "{'Perception': {'Text alternatives': {0: {'mu': -0.443409494723795,\n",
       "    'sigma': 8.262375992294555},\n",
       "   1: {'mu': 1.5351564065273866, 'sigma': 8.24703006751618},\n",
       "   2: {'mu': 2.3794182946565012, 'sigma': 8.247235602224679},\n",
       "   3: {'mu': 0.12795298409881664, 'sigma': 8.301719577021892}},\n",
       "  'Time-based media': {0: {'mu': 1.2223169220642662,\n",
       "    'sigma': 8.273011985128838},\n",
       "   1: {'mu': 0.2988854926848846, 'sigma': 8.266803935165335},\n",
       "   2: {'mu': 1.7343635949038192, 'sigma': 8.281161880313315},\n",
       "   3: {'mu': 0.3614934338061148, 'sigma': 8.272279680718896}},\n",
       "  'Adaptability': {0: {'mu': 0.28018688648482615, 'sigma': 8.24988836356247},\n",
       "   1: {'mu': -0.07835861306685317, 'sigma': 8.215274121465352},\n",
       "   2: {'mu': 0.5067848330214965, 'sigma': 8.236345645451074},\n",
       "   3: {'mu': 0.2978753260954983, 'sigma': 8.232338155297017}},\n",
       "  'Distinguishability': {0: {'mu': -1.6201393694886297,\n",
       "    'sigma': 8.252650465838821},\n",
       "   1: {'mu': 0.9445541302297956, 'sigma': 8.226005903841916},\n",
       "   2: {'mu': 0.2980089555169598, 'sigma': 8.262837555598688},\n",
       "   3: {'mu': -1.121776402589777, 'sigma': 8.235801714132771}}},\n",
       " 'Operability': {'Keyboard accessibility': {0: {'mu': -1.3821283272429314,\n",
       "    'sigma': 8.284059628885608},\n",
       "   1: {'mu': 0.16651201543219796, 'sigma': 8.267303357917278},\n",
       "   2: {'mu': -0.4032918185648915, 'sigma': 8.2628767762565},\n",
       "   3: {'mu': 0.38730241514178015, 'sigma': 8.263221359643103}},\n",
       "  'Time limitation': {0: {'mu': 1.6234384547628562,\n",
       "    'sigma': 8.263770591241405},\n",
       "   1: {'mu': 1.5592764116560573, 'sigma': 8.258311825866679},\n",
       "   2: {'mu': -0.12701673518102558, 'sigma': 8.243224448464668},\n",
       "   3: {'mu': 1.6337228842141667, 'sigma': 8.255651182595503}},\n",
       "  'Navigation': {0: {'mu': -1.51085032970974, 'sigma': 8.250494617162806},\n",
       "   1: {'mu': 0.9998103074311872, 'sigma': 8.205091349780888},\n",
       "   2: {'mu': -0.3747726443713688, 'sigma': 8.243992463246794},\n",
       "   3: {'mu': 2.1250547115557126, 'sigma': 8.250793607014488}}},\n",
       " 'Understandability': {'Readability': {0: {'mu': -0.5284845703344839,\n",
       "    'sigma': 8.220556917525926},\n",
       "   1: {'mu': -0.2351508518997385, 'sigma': 8.26642861748535},\n",
       "   2: {'mu': 0.22670043803313544, 'sigma': 8.262192787627049},\n",
       "   3: {'mu': -0.25067113222085646, 'sigma': 8.291548973723655}},\n",
       "  'Predictability': {0: {'mu': 0.10315627070143675,\n",
       "    'sigma': 8.264146678945925},\n",
       "   1: {'mu': -0.20006679147104214, 'sigma': 8.249164843414729},\n",
       "   2: {'mu': 0.9095855280962926, 'sigma': 8.242128248646617},\n",
       "   3: {'mu': 0.0850274418960417, 'sigma': 8.177628560490426}},\n",
       "  'Help with input': {0: {'mu': -0.8299090404564214,\n",
       "    'sigma': 8.24261607516061},\n",
       "   1: {'mu': -1.2002359145868187, 'sigma': 8.232669627110758},\n",
       "   2: {'mu': 1.8718507059561567, 'sigma': 8.229725122595397},\n",
       "   3: {'mu': 2.5894606959934103, 'sigma': 8.225144015594239}}}}"
      ]
     },
     "execution_count": 19,
     "metadata": {},
     "output_type": "execute_result"
    }
   ],
   "source": [
    "learners_to_dict(people[0].learners)"
   ]
  },
  {
   "cell_type": "code",
   "execution_count": 20,
   "metadata": {},
   "outputs": [],
   "source": [
    "def getz(self,request,user):\n",
    "    learners = user.learners\n",
    "    i = 0\n",
    "    user_attributes = copy.deepcopy(attributes)\n",
    "    for topic in attributes.keys():\n",
    "        for feature in attributes[topic].keys():\n",
    "            user_attributes[topic][feature] = {}\n",
    "            for value in range(4):\n",
    "                user_attributes[topic][feature][value] = {'mu' : learners[i].mu, 'sigma' : learners[i].sigma}\n",
    "                i += 1\n",
    "    return(Response(user_attributes))"
   ]
  },
  {
   "cell_type": "code",
   "execution_count": 21,
   "metadata": {},
   "outputs": [
    {
     "ename": "TypeError",
     "evalue": "learners_to_dict() takes 1 positional argument but 2 were given",
     "output_type": "error",
     "traceback": [
      "\u001b[1;31m---------------------------------------------------------------------------\u001b[0m",
      "\u001b[1;31mTypeError\u001b[0m                                 Traceback (most recent call last)",
      "\u001b[1;32m<ipython-input-21-8d954509baf3>\u001b[0m in \u001b[0;36m<module>\u001b[1;34m\u001b[0m\n\u001b[1;32m----> 1\u001b[1;33m \u001b[0mlearners_to_dict\u001b[0m\u001b[1;33m(\u001b[0m\u001b[0mpeople\u001b[0m\u001b[1;33m[\u001b[0m\u001b[1;36m0\u001b[0m\u001b[1;33m]\u001b[0m\u001b[1;33m,\u001b[0m \u001b[0mattributes\u001b[0m\u001b[1;33m)\u001b[0m\u001b[1;33m\u001b[0m\u001b[1;33m\u001b[0m\u001b[0m\n\u001b[0m",
      "\u001b[1;31mTypeError\u001b[0m: learners_to_dict() takes 1 positional argument but 2 were given"
     ]
    }
   ],
   "source": [
    "learners_to_dict(people[0], attributes)"
   ]
  },
  {
   "cell_type": "code",
   "execution_count": null,
   "metadata": {},
   "outputs": [],
   "source": [
    "attributes"
   ]
  },
  {
   "cell_type": "code",
   "execution_count": null,
   "metadata": {},
   "outputs": [],
   "source": [
    "reprs = []\n",
    "for i in people:\n",
    "    rep = []\n",
    "    for j in i.learners:\n",
    "        rep.append(i.learners[j].mu)\n",
    "    reprs.append(rep)"
   ]
  },
  {
   "cell_type": "code",
   "execution_count": null,
   "metadata": {},
   "outputs": [],
   "source": [
    "type(reprs)"
   ]
  },
  {
   "cell_type": "code",
   "execution_count": null,
   "metadata": {},
   "outputs": [],
   "source": [
    "reprs = np.array(reprs)"
   ]
  },
  {
   "cell_type": "code",
   "execution_count": null,
   "metadata": {},
   "outputs": [],
   "source": [
    "reprs.shape"
   ]
  },
  {
   "cell_type": "code",
   "execution_count": null,
   "metadata": {},
   "outputs": [],
   "source": [
    "from sklearn.manifold import TSNE"
   ]
  },
  {
   "cell_type": "code",
   "execution_count": null,
   "metadata": {},
   "outputs": [],
   "source": [
    "tsne = TSNE(n_components=2, method = 'exact')"
   ]
  },
  {
   "cell_type": "code",
   "execution_count": null,
   "metadata": {},
   "outputs": [],
   "source": [
    "tsne = tsne.fit(all_users)"
   ]
  },
  {
   "cell_type": "code",
   "execution_count": null,
   "metadata": {},
   "outputs": [],
   "source": [
    "import matplotlib.pyplot as plt\n",
    "\n",
    "plt.scatter(tsne.embedding_[:,0],tsne.embedding_[:,1])"
   ]
  },
  {
   "cell_type": "code",
   "execution_count": null,
   "metadata": {},
   "outputs": [],
   "source": [
    "tsne.embedding_[:,0]"
   ]
  },
  {
   "cell_type": "code",
   "execution_count": null,
   "metadata": {},
   "outputs": [],
   "source": [
    "from sklearn.mixture import BayesianGaussianMixture\n",
    "GM = BayesianGaussianMixture(n_components = 4, max_iter = 200)\n",
    "GM = GM.fit(reprs)\n",
    "print(GM.weights_)\n",
    "GM.predict(reprs)"
   ]
  },
  {
   "cell_type": "code",
   "execution_count": null,
   "metadata": {},
   "outputs": [],
   "source": [
    "import SpeculativeRepresentation as SR\n",
    "SR.speculative_induction_pozitive([0,2,3,3,2],3)"
   ]
  },
  {
   "cell_type": "code",
   "execution_count": null,
   "metadata": {},
   "outputs": [],
   "source": [
    "SR.speculative_induction_negative([0,2,3,3,2])"
   ]
  },
  {
   "cell_type": "code",
   "execution_count": null,
   "metadata": {},
   "outputs": [],
   "source": [
    "import operator\n",
    "x = people[0].learners\n",
    "sorted_x = sorted(x.items(), key=operator.itemgetter(1))"
   ]
  },
  {
   "cell_type": "code",
   "execution_count": null,
   "metadata": {},
   "outputs": [],
   "source": [
    "import operator\n",
    "mu = {i:x[i].mu for i in x.keys()}\n",
    "sigma = {i:x[i].sigma for i in x.keys()}\n",
    "sorted_mu = sorted(mu.items(), key=operator.itemgetter(1))\n",
    "sorted_sigma = sorted(sigma.items(), key=operator.itemgetter(1))"
   ]
  },
  {
   "cell_type": "code",
   "execution_count": null,
   "metadata": {},
   "outputs": [],
   "source": [
    "import matplotlib.pyplot as plt\n",
    "import numpy as np\n",
    "import scipy.stats as stats\n",
    "import math\n",
    "\n",
    "x = np.linspace(mu - 3*sigma, mu + 3*sigma, 100)\n",
    "for i in range(len(sorted_mu)):\n",
    "    mu = sorted_mu[i][1]\n",
    "    variance = sorted_sigma[i][1]\n",
    "    sigma = math.sqrt(variance)\n",
    "    plt.plot(x, stats.norm.pdf(x, mu, sigma))\n",
    "plt.show()"
   ]
  },
  {
   "cell_type": "code",
   "execution_count": null,
   "metadata": {},
   "outputs": [],
   "source": [
    "import matplotlib.pyplot as plt\n",
    "import numpy as np\n",
    "import scipy.stats as stats\n",
    "import math\n",
    "\n",
    "x = np.linspace(-3*8.3,3*8.3, 100)\n",
    "for i,j in [(0,8.3), (0.5, 2), (2,0.1)]:\n",
    "    mu = i\n",
    "    variance = j\n",
    "    sigma = math.sqrt(variance)\n",
    "    plt.plot(x, stats.norm.pdf(x, mu, sigma))\n",
    "plt.show()"
   ]
  },
  {
   "cell_type": "code",
   "execution_count": null,
   "metadata": {},
   "outputs": [],
   "source": []
  },
  {
   "cell_type": "code",
   "execution_count": null,
   "metadata": {},
   "outputs": [],
   "source": [
    "x = np.linspace(mu - 3*sigma, mu + 3*sigma, 100)"
   ]
  },
  {
   "cell_type": "code",
   "execution_count": null,
   "metadata": {},
   "outputs": [],
   "source": [
    "stats.norm.pdf(x, mu, sigma)"
   ]
  },
  {
   "cell_type": "code",
   "execution_count": null,
   "metadata": {},
   "outputs": [],
   "source": [
    "n_of_attributes = 4 + 3 + 3\n",
    "n_of_values = 4"
   ]
  },
  {
   "cell_type": "code",
   "execution_count": null,
   "metadata": {},
   "outputs": [],
   "source": []
  },
  {
   "cell_type": "code",
   "execution_count": null,
   "metadata": {},
   "outputs": [],
   "source": [
    "def skill_to_parm(TrueSkillObject):\n",
    "    parms = []\n",
    "    for i in TrueSkillObject.learners.keys():\n",
    "        parms.append([TrueSkillObject.learners[i].mu,TrueSkillObject.learners[i].sigma])\n",
    "    return parms\n",
    "\n",
    "def parm_to_skill(parms):\n",
    "    skill = TrueSkill_classifier()\n",
    "    for i in range(len(parms)):\n",
    "        skill.learners[i] = t.Rating(parms[i][0],parms[i][1])\n",
    "    return skill"
   ]
  },
  {
   "cell_type": "code",
   "execution_count": null,
   "metadata": {},
   "outputs": [],
   "source": [
    "skill_to_parm(learner)"
   ]
  },
  {
   "cell_type": "code",
   "execution_count": null,
   "metadata": {},
   "outputs": [],
   "source": [
    "np.random.normal(mu, sigma, 1)"
   ]
  },
  {
   "cell_type": "code",
   "execution_count": null,
   "metadata": {},
   "outputs": [],
   "source": [
    "def generate_users(N):\n",
    "    users = {}\n",
    "    for i in range(N):\n",
    "        users['AutoGenerated{}'.format(i)] = [[np.random.normal(0, 0.5, 1)[0],np.random.normal(6,0.5,1)[0]] \n",
    "                                              for i in range(n_of_attributes*n_of_values)]\n",
    "    return users"
   ]
  },
  {
   "cell_type": "code",
   "execution_count": null,
   "metadata": {},
   "outputs": [],
   "source": [
    "import GenerateUsers as G"
   ]
  },
  {
   "cell_type": "code",
   "execution_count": null,
   "metadata": {},
   "outputs": [],
   "source": [
    "G.generate_users(100)"
   ]
  },
  {
   "cell_type": "code",
   "execution_count": null,
   "metadata": {},
   "outputs": [],
   "source": [
    "questions = ['Text alternatives: how much non-text content has text alternatives:',\n",
    "            'Time-based media: now much of time based media has alternatives:',\n",
    "             'Adaptability: is content presented in a simplified way that is compatible with a screen reader:',\n",
    "            'Distinguishability: is viewing of web content simplified for the user:',\n",
    "             'Keyboard accessibility: is the web content accessible with the keyboard:',\n",
    "             'Time limitation for interacting with the web content: is interaction with the web site time limited:',\n",
    "             'Navigation: does the website support easy navigation:',\n",
    "            'Readability: is the content readable and understandable:',\n",
    "             'Predictability: are web sites organized in a logical and predictable way:',\n",
    "             'Help with input: Web site automatically detects and corrects input mistakes from the user:'\n",
    "            ]"
   ]
  },
  {
   "cell_type": "code",
   "execution_count": null,
   "metadata": {},
   "outputs": [],
   "source": [
    "questions_options = {'Text alternatives: how much non-text content has text alternatives':[\n",
    "'AAA: all non-text content has text alternatives'\n",
    "'AA: majority of non-text content has text alternatives'\n",
    "'A: some non-text content has text alternatives'\n",
    "'Non-compliant: no text alternatives are provided'\n",
    "],\n",
    "\n",
    "'Time-based media: now much of time based media has alternatives':[\n",
    "'AAA: all non-text content has text alternatives'\n",
    "'AA: majority of non-text content has text alternatives'\n",
    "'A: some non-text content has text alternatives'\n",
    "'Non-compliant: no text alternatives are provided'\n",
    "],\n",
    "\n",
    "'Adaptability: is content presented in a simplified way that is compatible with a screen reader':[\n",
    "'AAA: all content is presented in a simplified way'\n",
    "'AA: majority of content is presented in a simplified way'\n",
    "'A: only a small fraction of content is presented in a simplified way'\n",
    "'Non-compliant: no content is presented in a simplified way'\n",
    "],\n",
    "\n",
    "'Distinguishability: is viewing of web content simplified for the user':[\n",
    "'AAA: foreground and background color can be modified'\n",
    "'AA: Sound management mechanism is separated from system for web site navigation'\n",
    "'A: colors do not carry information'\n",
    "'Non-compliant: content is nod made easily distinguishable for the user'\n",
    "],\n",
    "\n",
    "\n",
    "'Keyboard accessibility: is the web content accessible with the keyboard':[\n",
    "'AAA: the whole web site is accessible with the keyboard'\n",
    "'AA: most of the web site is accessible with the keyboard'\n",
    "'A: main parts of web site are accessible with the keyboard'\n",
    "'Non-compliant: web content is completely inaccessible with the keyboard'\n",
    "],\n",
    "\n",
    "'Time limitation for interacting with the web content: is interaction with the web site time limited':[\n",
    "'AAA: web site contains no time limited content'\n",
    "'AA: user has the possibility to set speed of time limited content for all time limited content'\n",
    "'A: user has the possibility to set speed for most of time limited content'\n",
    "'Non-compliant: web content requires a lot of time-limited interaction'\n",
    "],\n",
    "'Navigation: does the website support easy navigation':[\n",
    "'AAA: purpose and location (inside the same web site/outside) is clear from the name of the link'\n",
    "'AA: web content supports different ways to navigate to it'\n",
    "'A: navigation sequence between web contents is logical and intuitive'\n",
    "'Non-compliant: navigation on the web content is difficult and unintuitive'\n",
    "],\n",
    "\n",
    "'Readability: is the content readable and understandable':[\n",
    "'AAA: the content has support for different levels of reading (simplified versions of content are available)'\n",
    "'AA: All parts of web content (if applicable) have marked the language in which they are written'\n",
    "'A: It is marked in which language the web site is written'\n",
    "'Non-compliant: web content is written in different languages and is written in difficult to understand style'\n",
    "],\n",
    "\n",
    "'Predictability: are web sites organized in a logical and predictable way':[\n",
    "'AAA: Bigger changes to the user interface that happen automatically can be disabled'\n",
    "'AA: Navigation of the website is consistent across all parts of the website'\n",
    "'A: Changes to the user interface do not happen automatically'\n",
    "'Non-compliant: interaction of web site with the user is inherently unpredictable'\n",
    "],\n",
    "\n",
    "'Help with input: Web site automatically detects and corrects input mistakes from the user':[\n",
    "'AAA: Web site provides context aware help with instructions and recommendations for input'\n",
    "'AA: In case the user makes an input mistake web site automatically suggests corrections'\n",
    "'A: Web site automatically detects input mistake'\n",
    "'Non-compliant: there is no help with user input'\n",
    "]}"
   ]
  },
  {
   "cell_type": "code",
   "execution_count": null,
   "metadata": {},
   "outputs": [],
   "source": [
    "questions_options.keys()"
   ]
  },
  {
   "cell_type": "code",
   "execution_count": null,
   "metadata": {},
   "outputs": [],
   "source": [
    "from Questions import get_questions"
   ]
  },
  {
   "cell_type": "code",
   "execution_count": null,
   "metadata": {},
   "outputs": [],
   "source": [
    "get_questions()"
   ]
  },
  {
   "cell_type": "code",
   "execution_count": null,
   "metadata": {},
   "outputs": [],
   "source": [
    "# generate vectors sampled from mixed Gaussians\n",
    "#blind users\n",
    "import matplotlib.pyplot as plt\n",
    "import numpy as np\n",
    "mean = list(0.8 * np.ones((1,10))[0])+ list(0* np.ones((1,30))[0])\n",
    "cov = np.diag(mean)\n",
    "\n",
    "\n",
    "blind_means = np.random.multivariate_normal(mean, cov, 50)\n",
    "\n",
    "partial_blind_1_mean = list(0.8 * np.ones((1,10))[0])+ list(0* np.ones((1,30))[0])\n",
    "partial_blind_2_mean = list(0* np.ones((1,20))[0]) + list(0.8 * np.ones((1,10))[0])+ list(0* np.ones((1,10))[0])\n",
    "partial_blind_3_mean = list(0* np.ones((1,30))[0]) + list(0.8 * np.ones((1,10))[0])\n",
    "\n",
    "partial_blind_1_mean = np.random.multivariate_normal(partial_blind_1_mean, cov, 50)\n",
    "partial_blind_2_mean = np.random.multivariate_normal(partial_blind_2_mean, cov, 50)\n",
    "partial_blind_3_mean = np.random.multivariate_normal(partial_blind_3_mean, cov, 50)"
   ]
  },
  {
   "cell_type": "code",
   "execution_count": null,
   "metadata": {},
   "outputs": [],
   "source": [
    "all_users = np.concatenate([blind_means, partial_blind_1_mean, partial_blind_2_mean, partial_blind_3_mean],axis=0)"
   ]
  },
  {
   "cell_type": "code",
   "execution_count": null,
   "metadata": {},
   "outputs": [],
   "source": [
    "for i in [blind_means, partial_blind_1_mean, partial_blind_2_mean, partial_blind_3_mean]: print(i.shape)"
   ]
  },
  {
   "cell_type": "code",
   "execution_count": null,
   "metadata": {},
   "outputs": [],
   "source": [
    "all_users.shape"
   ]
  },
  {
   "cell_type": "code",
   "execution_count": null,
   "metadata": {},
   "outputs": [],
   "source": []
  },
  {
   "cell_type": "code",
   "execution_count": null,
   "metadata": {},
   "outputs": [],
   "source": [
    "#generate users from mixed gaussian\n",
    "all_users.shape"
   ]
  },
  {
   "cell_type": "code",
   "execution_count": null,
   "metadata": {},
   "outputs": [],
   "source": [
    "variances = np.random.normal(8.3,0.5, (200, 40))"
   ]
  },
  {
   "cell_type": "code",
   "execution_count": null,
   "metadata": {},
   "outputs": [],
   "source": [
    "variances"
   ]
  },
  {
   "cell_type": "code",
   "execution_count": null,
   "metadata": {},
   "outputs": [],
   "source": [
    "final_matrix = []\n",
    "for i in range(all_users.shape[0]):\n",
    "    user = []\n",
    "    for j in range(all_users.shape[1]):\n",
    "        user.append([all_users[i,j],variances[i,j]])\n",
    "    final_matrix.append(user)"
   ]
  },
  {
   "cell_type": "code",
   "execution_count": null,
   "metadata": {},
   "outputs": [],
   "source": [
    "final_matrix"
   ]
  },
  {
   "cell_type": "code",
   "execution_count": null,
   "metadata": {},
   "outputs": [],
   "source": [
    "import json\n",
    "with open(\"users.json\",\"w\") as f:\n",
    "    json.dump(final_matrix, f)"
   ]
  },
  {
   "cell_type": "code",
   "execution_count": null,
   "metadata": {},
   "outputs": [],
   "source": []
  }
 ],
 "metadata": {
  "kernelspec": {
   "display_name": "sk_base",
   "language": "python",
   "name": "sk_base"
  },
  "language_info": {
   "codemirror_mode": {
    "name": "ipython",
    "version": 3
   },
   "file_extension": ".py",
   "mimetype": "text/x-python",
   "name": "python",
   "nbconvert_exporter": "python",
   "pygments_lexer": "ipython3",
   "version": "3.7.3"
  }
 },
 "nbformat": 4,
 "nbformat_minor": 2
}
