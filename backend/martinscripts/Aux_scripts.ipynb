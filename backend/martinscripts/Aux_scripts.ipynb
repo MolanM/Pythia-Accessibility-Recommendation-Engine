{
 "cells": [
  {
   "cell_type": "code",
   "execution_count": 45,
   "metadata": {},
   "outputs": [],
   "source": [
    "import sklearn\n",
    "import trueskill as t"
   ]
  },
  {
   "cell_type": "code",
   "execution_count": 34,
   "metadata": {},
   "outputs": [],
   "source": [
    "import TrueLearn\n",
    "from sklearn import preprocessing"
   ]
  },
  {
   "cell_type": "code",
   "execution_count": 35,
   "metadata": {},
   "outputs": [],
   "source": [
    "skill = TrueLearn.TrueSkill_classifier()"
   ]
  },
  {
   "cell_type": "code",
   "execution_count": 40,
   "metadata": {},
   "outputs": [],
   "source": [
    "resc = {'wiki1': ('https://sl.wikipedia.org/wiki/Wikipedija', [3, 3, 3, 3], None),\n",
    "        'lego': ('https://www.lego.com/en-us/kids/the-lego-movie-2', [0, 1, 0, 1], None),\n",
    "        'jacobin': ('https://jacobinmag.com/', [2, 2, 2, 2], None)\n",
    "        }\n",
    "\n",
    "users = {'martin': [TrueLearn.TrueSkill_classifier(), 0]}\n",
    "\n",
    "\n",
    "# TOLE BO TREBA MAL BOL ROBUSTNO NAREST\n",
    "speculative_induction = True\n",
    "\n",
    "history = []\n",
    "\n",
    "enc = preprocessing.OneHotEncoder(categories='auto')\n",
    "\n",
    "number_of_features = 4\n",
    "number_of_values = 5\n",
    "max_value = 3\n",
    "\n",
    "# enforcing correct encoding\n",
    "dummyX = [[j-1 for i in range(number_of_features)]\n",
    "          for j in range(number_of_values)]\n",
    "enc = enc.fit(dummyX)"
   ]
  },
  {
   "cell_type": "code",
   "execution_count": 41,
   "metadata": {},
   "outputs": [
    {
     "name": "stdout",
     "output_type": "stream",
     "text": [
      "[3, 3, 3, 3]\n",
      "[3, 3, 3, 3]\n",
      "[[0. 0. 0. 0. 1. 0. 0. 0. 0. 1. 0. 0. 0. 0. 1. 0. 0. 0. 0. 1.]]\n",
      "[1]\n"
     ]
    }
   ],
   "source": [
    "mat = resc['wiki1'][1]\n",
    "print(mat)\n",
    "#mat = S.speculative_induction(mat, max_value)\n",
    "print(mat)\n",
    "mat = enc.transform([mat]).toarray()\n",
    "print(mat)\n",
    "y = [1 for k in range(len(mat))]\n",
    "print(y)"
   ]
  },
  {
   "cell_type": "code",
   "execution_count": 42,
   "metadata": {},
   "outputs": [],
   "source": [
    "skill.fit(mat,y)"
   ]
  },
  {
   "cell_type": "code",
   "execution_count": 43,
   "metadata": {},
   "outputs": [
    {
     "data": {
      "text/plain": [
       "{0: trueskill.Rating(mu=0.000, sigma=8.333),\n",
       " 1: trueskill.Rating(mu=0.000, sigma=8.333),\n",
       " 2: trueskill.Rating(mu=0.000, sigma=8.333),\n",
       " 3: trueskill.Rating(mu=0.000, sigma=8.333),\n",
       " 4: trueskill.Rating(mu=4.462, sigma=7.539),\n",
       " 5: trueskill.Rating(mu=0.000, sigma=8.333),\n",
       " 6: trueskill.Rating(mu=0.000, sigma=8.333),\n",
       " 7: trueskill.Rating(mu=0.000, sigma=8.333),\n",
       " 8: trueskill.Rating(mu=0.000, sigma=8.333),\n",
       " 9: trueskill.Rating(mu=4.462, sigma=7.539),\n",
       " 10: trueskill.Rating(mu=0.000, sigma=8.333),\n",
       " 11: trueskill.Rating(mu=0.000, sigma=8.333),\n",
       " 12: trueskill.Rating(mu=0.000, sigma=8.333),\n",
       " 13: trueskill.Rating(mu=0.000, sigma=8.333),\n",
       " 14: trueskill.Rating(mu=4.462, sigma=7.539),\n",
       " 15: trueskill.Rating(mu=0.000, sigma=8.333),\n",
       " 16: trueskill.Rating(mu=0.000, sigma=8.333),\n",
       " 17: trueskill.Rating(mu=0.000, sigma=8.333),\n",
       " 18: trueskill.Rating(mu=0.000, sigma=8.333),\n",
       " 19: trueskill.Rating(mu=4.462, sigma=7.539)}"
      ]
     },
     "execution_count": 43,
     "metadata": {},
     "output_type": "execute_result"
    }
   ],
   "source": [
    "skill.learners"
   ]
  },
  {
   "cell_type": "code",
   "execution_count": 46,
   "metadata": {},
   "outputs": [],
   "source": [
    "skill.learners[0] = t.Rating(0,5)"
   ]
  },
  {
   "cell_type": "code",
   "execution_count": 50,
   "metadata": {},
   "outputs": [
    {
     "data": {
      "text/plain": [
       "5.0"
      ]
     },
     "execution_count": 50,
     "metadata": {},
     "output_type": "execute_result"
    }
   ],
   "source": [
    "skill.learners[0].sigma"
   ]
  },
  {
   "cell_type": "code",
   "execution_count": 51,
   "metadata": {},
   "outputs": [
    {
     "data": {
      "text/plain": [
       "{0: trueskill.Rating(mu=0.000, sigma=5.000),\n",
       " 1: trueskill.Rating(mu=0.000, sigma=8.333),\n",
       " 2: trueskill.Rating(mu=0.000, sigma=8.333),\n",
       " 3: trueskill.Rating(mu=0.000, sigma=8.333),\n",
       " 4: trueskill.Rating(mu=4.462, sigma=7.539),\n",
       " 5: trueskill.Rating(mu=0.000, sigma=8.333),\n",
       " 6: trueskill.Rating(mu=0.000, sigma=8.333),\n",
       " 7: trueskill.Rating(mu=0.000, sigma=8.333),\n",
       " 8: trueskill.Rating(mu=0.000, sigma=8.333),\n",
       " 9: trueskill.Rating(mu=4.462, sigma=7.539),\n",
       " 10: trueskill.Rating(mu=0.000, sigma=8.333),\n",
       " 11: trueskill.Rating(mu=0.000, sigma=8.333),\n",
       " 12: trueskill.Rating(mu=0.000, sigma=8.333),\n",
       " 13: trueskill.Rating(mu=0.000, sigma=8.333),\n",
       " 14: trueskill.Rating(mu=4.462, sigma=7.539),\n",
       " 15: trueskill.Rating(mu=0.000, sigma=8.333),\n",
       " 16: trueskill.Rating(mu=0.000, sigma=8.333),\n",
       " 17: trueskill.Rating(mu=0.000, sigma=8.333),\n",
       " 18: trueskill.Rating(mu=0.000, sigma=8.333),\n",
       " 19: trueskill.Rating(mu=4.462, sigma=7.539)}"
      ]
     },
     "execution_count": 51,
     "metadata": {},
     "output_type": "execute_result"
    }
   ],
   "source": [
    "skill.learners"
   ]
  },
  {
   "cell_type": "code",
   "execution_count": 52,
   "metadata": {},
   "outputs": [],
   "source": [
    "def skill_to_parm(TrueSkillObject):\n",
    "    parms = []\n",
    "    for i in TrueSkillObject.learners.keys():\n",
    "        parms.append([TrueSkillObject.learners[i].mu,TrueSkillObject.learners[i].sigma])\n",
    "    return parms"
   ]
  },
  {
   "cell_type": "code",
   "execution_count": 55,
   "metadata": {},
   "outputs": [],
   "source": [
    "def parm_to_skill(parms):\n",
    "    skill = TrueLearn.TrueSkill_classifier()\n",
    "    for i in range(len(parms)):\n",
    "        skill.learners[i] = t.Rating(parms[i][0],parms[i][1])\n",
    "    return skill"
   ]
  },
  {
   "cell_type": "code",
   "execution_count": 60,
   "metadata": {},
   "outputs": [
    {
     "data": {
      "text/plain": [
       "{}"
      ]
     },
     "execution_count": 60,
     "metadata": {},
     "output_type": "execute_result"
    }
   ],
   "source": [
    "parm_to_skill([]).learners"
   ]
  },
  {
   "cell_type": "code",
   "execution_count": 58,
   "metadata": {},
   "outputs": [
    {
     "data": {
      "text/plain": [
       "{0: trueskill.Rating(mu=0.000, sigma=5.000),\n",
       " 1: trueskill.Rating(mu=0.000, sigma=8.333),\n",
       " 2: trueskill.Rating(mu=0.000, sigma=8.333),\n",
       " 3: trueskill.Rating(mu=0.000, sigma=8.333),\n",
       " 4: trueskill.Rating(mu=4.462, sigma=7.539),\n",
       " 5: trueskill.Rating(mu=0.000, sigma=8.333),\n",
       " 6: trueskill.Rating(mu=0.000, sigma=8.333),\n",
       " 7: trueskill.Rating(mu=0.000, sigma=8.333),\n",
       " 8: trueskill.Rating(mu=0.000, sigma=8.333),\n",
       " 9: trueskill.Rating(mu=4.462, sigma=7.539),\n",
       " 10: trueskill.Rating(mu=0.000, sigma=8.333),\n",
       " 11: trueskill.Rating(mu=0.000, sigma=8.333),\n",
       " 12: trueskill.Rating(mu=0.000, sigma=8.333),\n",
       " 13: trueskill.Rating(mu=0.000, sigma=8.333),\n",
       " 14: trueskill.Rating(mu=4.462, sigma=7.539),\n",
       " 15: trueskill.Rating(mu=0.000, sigma=8.333),\n",
       " 16: trueskill.Rating(mu=0.000, sigma=8.333),\n",
       " 17: trueskill.Rating(mu=0.000, sigma=8.333),\n",
       " 18: trueskill.Rating(mu=0.000, sigma=8.333),\n",
       " 19: trueskill.Rating(mu=4.462, sigma=7.539)}"
      ]
     },
     "execution_count": 58,
     "metadata": {},
     "output_type": "execute_result"
    }
   ],
   "source": [
    "parm_to_skill(skill_to_parm(skill)).learners"
   ]
  },
  {
   "cell_type": "code",
   "execution_count": null,
   "metadata": {},
   "outputs": [],
   "source": []
  },
  {
   "cell_type": "code",
   "execution_count": null,
   "metadata": {},
   "outputs": [],
   "source": []
  }
 ],
 "metadata": {
  "kernelspec": {
   "display_name": "sk_base",
   "language": "python",
   "name": "sk_base"
  },
  "language_info": {
   "codemirror_mode": {
    "name": "ipython",
    "version": 3
   },
   "file_extension": ".py",
   "mimetype": "text/x-python",
   "name": "python",
   "nbconvert_exporter": "python",
   "pygments_lexer": "ipython3",
   "version": "3.7.3"
  }
 },
 "nbformat": 4,
 "nbformat_minor": 2
}
